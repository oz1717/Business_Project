{
 "cells": [
  {
   "cell_type": "code",
   "execution_count": 14,
   "metadata": {
    "collapsed": true
   },
   "outputs": [],
   "source": [
    "%matplotlib inline\n",
    "\n",
    "import pandas as pd\n",
    "import datetime\n",
    "import matplotlib.pyplot as plt\n",
    "import seaborn as sns\n",
    "import io\n",
    "import codecs\n",
    "import re\n",
    "from dateutil import parser\n",
    "from janome.tokenizer import Tokenizer\n",
    "from wordcloud import WordCloud\n",
    "from collections import Counter, defaultdict\n",
    "from pykakasi import kakasi\n",
    "sns.set(color_codes=True)\n",
    "\n",
    "import folium"
   ]
  },
  {
   "cell_type": "code",
   "execution_count": 15,
   "metadata": {},
   "outputs": [
    {
     "name": "stdout",
     "output_type": "stream",
     "text": [
      "2018-05-17\n"
     ]
    }
   ],
   "source": [
    "today = datetime.date.today() #- datetime.timedelta(3)\n",
    "until = str(today)\n",
    "print(until)"
   ]
  },
  {
   "cell_type": "code",
   "execution_count": 16,
   "metadata": {
    "collapsed": true
   },
   "outputs": [],
   "source": [
    "YH_df = pd.read_csv(\"tweet/\" + until + \"/yawatahama_\" + until + \".csv\", sep = '\\t', encoding='utf-16')"
   ]
  },
  {
   "cell_type": "code",
   "execution_count": 17,
   "metadata": {},
   "outputs": [
    {
     "data": {
      "text/html": [
       "<div>\n",
       "<style>\n",
       "    .dataframe thead tr:only-child th {\n",
       "        text-align: right;\n",
       "    }\n",
       "\n",
       "    .dataframe thead th {\n",
       "        text-align: left;\n",
       "    }\n",
       "\n",
       "    .dataframe tbody tr th {\n",
       "        vertical-align: top;\n",
       "    }\n",
       "</style>\n",
       "<table border=\"1\" class=\"dataframe\">\n",
       "  <thead>\n",
       "    <tr style=\"text-align: right;\">\n",
       "      <th></th>\n",
       "      <th>Unnamed: 0</th>\n",
       "      <th>user</th>\n",
       "      <th>created_at</th>\n",
       "      <th>text</th>\n",
       "      <th>RT</th>\n",
       "      <th>key</th>\n",
       "      <th>longitude</th>\n",
       "      <th>latitude</th>\n",
       "    </tr>\n",
       "  </thead>\n",
       "  <tbody>\n",
       "    <tr>\n",
       "      <th>0</th>\n",
       "      <td>0</td>\n",
       "      <td>Tissot1111</td>\n",
       "      <td>Wed May 16 23:53:27 +0000 2018</td>\n",
       "      <td>I'm at パン・メゾン pain maison in 八幡浜市, 愛媛県 https:/...</td>\n",
       "      <td>False</td>\n",
       "      <td>八幡浜</td>\n",
       "      <td>132.423825</td>\n",
       "      <td>33.463359</td>\n",
       "    </tr>\n",
       "    <tr>\n",
       "      <th>1</th>\n",
       "      <td>1</td>\n",
       "      <td>Tissot1111</td>\n",
       "      <td>Wed May 16 23:52:40 +0000 2018</td>\n",
       "      <td>I'm at フジグラン北浜 in 八幡浜市, 愛媛県 https://t.co/Dterj...</td>\n",
       "      <td>False</td>\n",
       "      <td>八幡浜</td>\n",
       "      <td>132.420928</td>\n",
       "      <td>33.461640</td>\n",
       "    </tr>\n",
       "    <tr>\n",
       "      <th>2</th>\n",
       "      <td>2</td>\n",
       "      <td>Tappoi2015</td>\n",
       "      <td>Wed May 16 23:43:30 +0000 2018</td>\n",
       "      <td>過去記事お引越し中↓↓↓\\r\\n2016/04/02（196日目）\\r\\n愛媛県八幡浜市~宇...</td>\n",
       "      <td>False</td>\n",
       "      <td>八幡浜</td>\n",
       "      <td>NaN</td>\n",
       "      <td>NaN</td>\n",
       "    </tr>\n",
       "    <tr>\n",
       "      <th>3</th>\n",
       "      <td>3</td>\n",
       "      <td>shikabane_taro</td>\n",
       "      <td>Wed May 16 23:40:27 +0000 2018</td>\n",
       "      <td>八幡浜 https://t.co/fm2o1LSZf4</td>\n",
       "      <td>False</td>\n",
       "      <td>八幡浜</td>\n",
       "      <td>NaN</td>\n",
       "      <td>NaN</td>\n",
       "    </tr>\n",
       "    <tr>\n",
       "      <th>4</th>\n",
       "      <td>4</td>\n",
       "      <td>LimitedExpJR</td>\n",
       "      <td>Wed May 16 23:37:27 +0000 2018</td>\n",
       "      <td>【特急 しおかぜ】停車駅\\r\\n岡山-児島-宇多津-丸亀-多度津-(詫間)-(高瀬)-観音寺...</td>\n",
       "      <td>False</td>\n",
       "      <td>八幡浜</td>\n",
       "      <td>NaN</td>\n",
       "      <td>NaN</td>\n",
       "    </tr>\n",
       "  </tbody>\n",
       "</table>\n",
       "</div>"
      ],
      "text/plain": [
       "   Unnamed: 0            user                      created_at  \\\n",
       "0           0      Tissot1111  Wed May 16 23:53:27 +0000 2018   \n",
       "1           1      Tissot1111  Wed May 16 23:52:40 +0000 2018   \n",
       "2           2      Tappoi2015  Wed May 16 23:43:30 +0000 2018   \n",
       "3           3  shikabane_taro  Wed May 16 23:40:27 +0000 2018   \n",
       "4           4    LimitedExpJR  Wed May 16 23:37:27 +0000 2018   \n",
       "\n",
       "                                                text     RT  key   longitude  \\\n",
       "0  I'm at パン・メゾン pain maison in 八幡浜市, 愛媛県 https:/...  False  八幡浜  132.423825   \n",
       "1  I'm at フジグラン北浜 in 八幡浜市, 愛媛県 https://t.co/Dterj...  False  八幡浜  132.420928   \n",
       "2  過去記事お引越し中↓↓↓\\r\\n2016/04/02（196日目）\\r\\n愛媛県八幡浜市~宇...  False  八幡浜         NaN   \n",
       "3                        八幡浜 https://t.co/fm2o1LSZf4  False  八幡浜         NaN   \n",
       "4  【特急 しおかぜ】停車駅\\r\\n岡山-児島-宇多津-丸亀-多度津-(詫間)-(高瀬)-観音寺...  False  八幡浜         NaN   \n",
       "\n",
       "    latitude  \n",
       "0  33.463359  \n",
       "1  33.461640  \n",
       "2        NaN  \n",
       "3        NaN  \n",
       "4        NaN  "
      ]
     },
     "execution_count": 17,
     "metadata": {},
     "output_type": "execute_result"
    }
   ],
   "source": [
    "YH_df.head()"
   ]
  },
  {
   "cell_type": "code",
   "execution_count": 18,
   "metadata": {},
   "outputs": [],
   "source": [
    "YH_df = YH_df.dropna()"
   ]
  },
  {
   "cell_type": "code",
   "execution_count": 21,
   "metadata": {},
   "outputs": [
    {
     "data": {
      "text/html": [
       "<div style=\"width:100%;\"><div style=\"position:relative;width:100%;height:0;padding-bottom:60%;\"><iframe src=\"data:text/html;charset=utf-8;base64,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\" style=\"position:absolute;width:100%;height:100%;left:0;top:0;border:none !important;\" allowfullscreen webkitallowfullscreen mozallowfullscreen></iframe></div></div>"
      ],
      "text/plain": [
       "<folium.folium.Map at 0x167d77d8b00>"
      ]
     },
     "execution_count": 21,
     "metadata": {},
     "output_type": "execute_result"
    }
   ],
   "source": [
    "Yawatahama_map = folium.Map(location=[33.4629, 132.4233], zoom_start=12)\n",
    "\n",
    "for i, r in YH_df.iterrows():\n",
    "#   folium.Marker(location=[r['latitude'], r['longitude']], popup=r['text']).add_to(Yawatahama_map)\n",
    "    folium.Marker(location=[r['latitude'], r['longitude']]).add_to(Yawatahama_map)\n",
    "    \n",
    "Yawatahama_map"
   ]
  },
  {
   "cell_type": "code",
   "execution_count": 13,
   "metadata": {},
   "outputs": [
    {
     "name": "stdout",
     "output_type": "stream",
     "text": [
      "Help on class Icon in module folium.map:\n",
      "\n",
      "class Icon(branca.element.MacroElement)\n",
      " |  Creates an Icon object that will be rendered\n",
      " |  using Leaflet.awesome-markers.\n",
      " |  \n",
      " |  Parameters\n",
      " |  ----------\n",
      " |  color : str, default 'blue'\n",
      " |      The color of the marker. You can use:\n",
      " |  \n",
      " |          ['red', 'blue', 'green', 'purple', 'orange', 'darkred',\n",
      " |           'lightred', 'beige', 'darkblue', 'darkgreen', 'cadetblue',\n",
      " |           'darkpurple', 'white', 'pink', 'lightblue', 'lightgreen',\n",
      " |           'gray', 'black', 'lightgray']\n",
      " |  \n",
      " |  icon_color : str, default 'white'\n",
      " |      The color of the drawing on the marker. You can use colors above,\n",
      " |      or an html color code.\n",
      " |  icon : str, default 'info-sign'\n",
      " |      The name of the marker sign.\n",
      " |      See Font-Awesome website to choose yours.\n",
      " |      Warning : depending on the icon you choose you may need to adapt\n",
      " |      the `prefix` as well.\n",
      " |  angle : int, default 0\n",
      " |      The icon will be rotated by this amount of degrees.\n",
      " |  prefix : str, default 'glyphicon'\n",
      " |      The prefix states the source of the icon. 'fa' for font-awesome or\n",
      " |      'glyphicon' for bootstrap 3.\n",
      " |  \n",
      " |  For more details see:\n",
      " |  https://github.com/lvoogdt/Leaflet.awesome-markers\n",
      " |  \n",
      " |  Method resolution order:\n",
      " |      Icon\n",
      " |      branca.element.MacroElement\n",
      " |      branca.element.Element\n",
      " |      builtins.object\n",
      " |  \n",
      " |  Methods defined here:\n",
      " |  \n",
      " |  __init__(self, color='blue', icon_color='white', icon='info-sign', angle=0, prefix='glyphicon')\n",
      " |      Initialize self.  See help(type(self)) for accurate signature.\n",
      " |  \n",
      " |  ----------------------------------------------------------------------\n",
      " |  Methods inherited from branca.element.MacroElement:\n",
      " |  \n",
      " |  render(self, **kwargs)\n",
      " |      Renders the HTML representation of the element.\n",
      " |  \n",
      " |  ----------------------------------------------------------------------\n",
      " |  Methods inherited from branca.element.Element:\n",
      " |  \n",
      " |  add_child(self, child, name=None, index=None)\n",
      " |      Add a child.\n",
      " |  \n",
      " |  add_children(self, child, name=None, index=None)\n",
      " |      Add a child.\n",
      " |  \n",
      " |  add_to(self, parent, name=None, index=None)\n",
      " |      Add element to a parent.\n",
      " |  \n",
      " |  get_bounds(self)\n",
      " |      Computes the bounds of the object and all it's children\n",
      " |      in the form [[lat_min, lon_min], [lat_max, lon_max]].\n",
      " |  \n",
      " |  get_name(self)\n",
      " |      Returns a string representation of the object.\n",
      " |      This string has to be unique and to be a python and\n",
      " |      javascript-compatible\n",
      " |      variable name.\n",
      " |  \n",
      " |  get_root(self)\n",
      " |      Returns the root of the elements tree.\n",
      " |  \n",
      " |  save(self, outfile, close_file=True, **kwargs)\n",
      " |      Saves an Element into a file.\n",
      " |      \n",
      " |      Parameters\n",
      " |      ----------\n",
      " |      outfile : str or file object\n",
      " |          The file (or filename) where you want to output the html.\n",
      " |      close_file : bool, default True\n",
      " |          Whether the file has to be closed after write.\n",
      " |  \n",
      " |  to_dict(self, depth=-1, ordered=True, **kwargs)\n",
      " |      Returns a dict representation of the object.\n",
      " |  \n",
      " |  to_json(self, depth=-1, **kwargs)\n",
      " |      Returns a JSON representation of the object.\n",
      " |  \n",
      " |  ----------------------------------------------------------------------\n",
      " |  Data descriptors inherited from branca.element.Element:\n",
      " |  \n",
      " |  __dict__\n",
      " |      dictionary for instance variables (if defined)\n",
      " |  \n",
      " |  __weakref__\n",
      " |      list of weak references to the object (if defined)\n",
      "\n"
     ]
    }
   ],
   "source": [
    "help(folium.Icon)"
   ]
  },
  {
   "cell_type": "code",
   "execution_count": null,
   "metadata": {
    "collapsed": true
   },
   "outputs": [],
   "source": []
  }
 ],
 "metadata": {
  "kernelspec": {
   "display_name": "Python 3",
   "language": "python",
   "name": "python3"
  },
  "language_info": {
   "codemirror_mode": {
    "name": "ipython",
    "version": 3
   },
   "file_extension": ".py",
   "mimetype": "text/x-python",
   "name": "python",
   "nbconvert_exporter": "python",
   "pygments_lexer": "ipython3",
   "version": "3.6.1"
  }
 },
 "nbformat": 4,
 "nbformat_minor": 2
}

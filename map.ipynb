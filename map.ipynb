{
 "cells": [
  {
   "cell_type": "code",
   "execution_count": 1,
   "metadata": {
    "collapsed": true
   },
   "outputs": [],
   "source": [
    "%matplotlib inline\n",
    "\n",
    "import pandas as pd\n",
    "import datetime\n",
    "import matplotlib.pyplot as plt\n",
    "import seaborn as sns\n",
    "import io\n",
    "import codecs\n",
    "import re\n",
    "from dateutil import parser\n",
    "from janome.tokenizer import Tokenizer\n",
    "from wordcloud import WordCloud\n",
    "from collections import Counter, defaultdict\n",
    "from pykakasi import kakasi\n",
    "sns.set(color_codes=True)\n",
    "\n",
    "import folium"
   ]
  },
  {
   "cell_type": "code",
   "execution_count": 2,
   "metadata": {},
   "outputs": [
    {
     "name": "stdout",
     "output_type": "stream",
     "text": [
      "2018-05-17\n"
     ]
    }
   ],
   "source": [
    "today = datetime.date.today() #- datetime.timedelta(3)\n",
    "until = str(today)\n",
    "print(until)"
   ]
  },
  {
   "cell_type": "code",
   "execution_count": 3,
   "metadata": {
    "collapsed": true
   },
   "outputs": [],
   "source": [
    "YH_df = pd.read_csv(\"tweet/\" + until + \"/yawatahama_\" + until + \".csv\", sep = '\\t', encoding='utf-16')"
   ]
  },
  {
   "cell_type": "code",
   "execution_count": 4,
   "metadata": {},
   "outputs": [
    {
     "data": {
      "text/html": [
       "<div>\n",
       "<style>\n",
       "    .dataframe thead tr:only-child th {\n",
       "        text-align: right;\n",
       "    }\n",
       "\n",
       "    .dataframe thead th {\n",
       "        text-align: left;\n",
       "    }\n",
       "\n",
       "    .dataframe tbody tr th {\n",
       "        vertical-align: top;\n",
       "    }\n",
       "</style>\n",
       "<table border=\"1\" class=\"dataframe\">\n",
       "  <thead>\n",
       "    <tr style=\"text-align: right;\">\n",
       "      <th></th>\n",
       "      <th>Unnamed: 0</th>\n",
       "      <th>created_at</th>\n",
       "      <th>text</th>\n",
       "      <th>RT</th>\n",
       "      <th>key</th>\n",
       "      <th>longitude</th>\n",
       "      <th>latitude</th>\n",
       "    </tr>\n",
       "  </thead>\n",
       "  <tbody>\n",
       "    <tr>\n",
       "      <th>0</th>\n",
       "      <td>0</td>\n",
       "      <td>Wed May 16 23:53:27 +0000 2018</td>\n",
       "      <td>I'm at パン・メゾン pain maison in 八幡浜市, 愛媛県 https:/...</td>\n",
       "      <td>False</td>\n",
       "      <td>八幡浜</td>\n",
       "      <td>132.423825</td>\n",
       "      <td>33.463359</td>\n",
       "    </tr>\n",
       "    <tr>\n",
       "      <th>1</th>\n",
       "      <td>1</td>\n",
       "      <td>Wed May 16 23:52:40 +0000 2018</td>\n",
       "      <td>I'm at フジグラン北浜 in 八幡浜市, 愛媛県 https://t.co/Dterj...</td>\n",
       "      <td>False</td>\n",
       "      <td>八幡浜</td>\n",
       "      <td>132.420928</td>\n",
       "      <td>33.461640</td>\n",
       "    </tr>\n",
       "    <tr>\n",
       "      <th>2</th>\n",
       "      <td>2</td>\n",
       "      <td>Wed May 16 23:43:30 +0000 2018</td>\n",
       "      <td>過去記事お引越し中↓↓↓\\r\\n2016/04/02（196日目）\\r\\n愛媛県八幡浜市~宇...</td>\n",
       "      <td>False</td>\n",
       "      <td>八幡浜</td>\n",
       "      <td>NaN</td>\n",
       "      <td>NaN</td>\n",
       "    </tr>\n",
       "    <tr>\n",
       "      <th>3</th>\n",
       "      <td>3</td>\n",
       "      <td>Wed May 16 23:40:27 +0000 2018</td>\n",
       "      <td>八幡浜 https://t.co/fm2o1LSZf4</td>\n",
       "      <td>False</td>\n",
       "      <td>八幡浜</td>\n",
       "      <td>NaN</td>\n",
       "      <td>NaN</td>\n",
       "    </tr>\n",
       "    <tr>\n",
       "      <th>4</th>\n",
       "      <td>4</td>\n",
       "      <td>Wed May 16 23:37:27 +0000 2018</td>\n",
       "      <td>【特急 しおかぜ】停車駅\\r\\n岡山-児島-宇多津-丸亀-多度津-(詫間)-(高瀬)-観音寺...</td>\n",
       "      <td>False</td>\n",
       "      <td>八幡浜</td>\n",
       "      <td>NaN</td>\n",
       "      <td>NaN</td>\n",
       "    </tr>\n",
       "  </tbody>\n",
       "</table>\n",
       "</div>"
      ],
      "text/plain": [
       "   Unnamed: 0                      created_at  \\\n",
       "0           0  Wed May 16 23:53:27 +0000 2018   \n",
       "1           1  Wed May 16 23:52:40 +0000 2018   \n",
       "2           2  Wed May 16 23:43:30 +0000 2018   \n",
       "3           3  Wed May 16 23:40:27 +0000 2018   \n",
       "4           4  Wed May 16 23:37:27 +0000 2018   \n",
       "\n",
       "                                                text     RT  key   longitude  \\\n",
       "0  I'm at パン・メゾン pain maison in 八幡浜市, 愛媛県 https:/...  False  八幡浜  132.423825   \n",
       "1  I'm at フジグラン北浜 in 八幡浜市, 愛媛県 https://t.co/Dterj...  False  八幡浜  132.420928   \n",
       "2  過去記事お引越し中↓↓↓\\r\\n2016/04/02（196日目）\\r\\n愛媛県八幡浜市~宇...  False  八幡浜         NaN   \n",
       "3                        八幡浜 https://t.co/fm2o1LSZf4  False  八幡浜         NaN   \n",
       "4  【特急 しおかぜ】停車駅\\r\\n岡山-児島-宇多津-丸亀-多度津-(詫間)-(高瀬)-観音寺...  False  八幡浜         NaN   \n",
       "\n",
       "    latitude  \n",
       "0  33.463359  \n",
       "1  33.461640  \n",
       "2        NaN  \n",
       "3        NaN  \n",
       "4        NaN  "
      ]
     },
     "execution_count": 4,
     "metadata": {},
     "output_type": "execute_result"
    }
   ],
   "source": [
    "YH_df.head()"
   ]
  },
  {
   "cell_type": "code",
   "execution_count": 5,
   "metadata": {},
   "outputs": [],
   "source": [
    "YH_df = YH_df.dropna()"
   ]
  },
  {
   "cell_type": "code",
   "execution_count": 12,
   "metadata": {},
   "outputs": [
    {
     "data": {
      "text/html": [
       "<div style=\"width:100%;\"><div style=\"position:relative;width:100%;height:0;padding-bottom:60%;\"><iframe src=\"data:text/html;charset=utf-8;base64,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\" style=\"position:absolute;width:100%;height:100%;left:0;top:0;border:none !important;\" allowfullscreen webkitallowfullscreen mozallowfullscreen></iframe></div></div>"
      ],
      "text/plain": [
       "<folium.folium.Map at 0x167d76be2b0>"
      ]
     },
     "execution_count": 12,
     "metadata": {},
     "output_type": "execute_result"
    }
   ],
   "source": [
    "Yawatahama_map = folium.Map(location=[33.4629, 132.4233], zoom_start=12)\n",
    "\n",
    "for i, r in YH_df.iterrows():\n",
    "#   folium.Marker(location=[r['latitude'], r['longitude']], popup=r['text']).add_to(Yawatahama_map)\n",
    "    folium.Marker(location=[r['latitude'], r['longitude']]).add_to(Yawatahama_map)\n",
    "    \n",
    "Yawatahama_map"
   ]
  },
  {
   "cell_type": "code",
   "execution_count": null,
   "metadata": {
    "collapsed": true
   },
   "outputs": [],
   "source": []
  },
  {
   "cell_type": "code",
   "execution_count": null,
   "metadata": {
    "collapsed": true
   },
   "outputs": [],
   "source": []
  }
 ],
 "metadata": {
  "kernelspec": {
   "display_name": "Python 3",
   "language": "python",
   "name": "python3"
  },
  "language_info": {
   "codemirror_mode": {
    "name": "ipython",
    "version": 3
   },
   "file_extension": ".py",
   "mimetype": "text/x-python",
   "name": "python",
   "nbconvert_exporter": "python",
   "pygments_lexer": "ipython3",
   "version": "3.6.1"
  }
 },
 "nbformat": 4,
 "nbformat_minor": 2
}

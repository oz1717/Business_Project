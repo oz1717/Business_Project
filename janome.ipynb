{
 "cells": [
  {
   "cell_type": "code",
   "execution_count": 1,
   "metadata": {},
   "outputs": [],
   "source": [
    "from janome.tokenizer import Tokenizer"
   ]
  },
  {
   "cell_type": "code",
   "execution_count": 8,
   "metadata": {},
   "outputs": [
    {
     "name": "stdout",
     "output_type": "stream",
     "text": [
      "@\t名詞,サ変接続,*,*,*,*,@,*,*\n",
      "は\t助詞,係助詞,*,*,*,*,は,ハ,ワ\n",
      ":\t名詞,サ変接続,*,*,*,*,:,*,*\n",
      "RT\t名詞,固有名詞,組織,*,*,*,RT,*,*\n"
     ]
    }
   ],
   "source": [
    "tokenizer = Tokenizer()\n",
    "tokens = tokenizer.tokenize(\"@は:RT\")\n",
    "for token in tokens:\n",
    "    print(token)"
   ]
  },
  {
   "cell_type": "code",
   "execution_count": 5,
   "metadata": {},
   "outputs": [
    {
     "name": "stdout",
     "output_type": "stream",
     "text": [
      "私 \t\n",
      "名詞\n",
      "代名詞\n",
      "一般\n",
      "*\n",
      "*\n",
      "*\n",
      "私\n",
      "ワタシ\n",
      "ワタシ\n",
      "SYS_DICT\n"
     ]
    },
    {
     "ename": "NameError",
     "evalue": "name 'stop' is not defined",
     "output_type": "error",
     "traceback": [
      "\u001b[1;31m---------------------------------------------------------------------------\u001b[0m",
      "\u001b[1;31mNameError\u001b[0m                                 Traceback (most recent call last)",
      "\u001b[1;32m<ipython-input-5-c63decd3bc55>\u001b[0m in \u001b[0;36m<module>\u001b[1;34m()\u001b[0m\n\u001b[0;32m     12\u001b[0m \u001b[1;33m\u001b[0m\u001b[0m\n\u001b[0;32m     13\u001b[0m     \u001b[0mprint\u001b[0m\u001b[1;33m(\u001b[0m\u001b[0mtoken\u001b[0m\u001b[1;33m.\u001b[0m\u001b[0mnode_type\u001b[0m\u001b[1;33m)\u001b[0m                      \u001b[1;31m# node_type\u001b[0m\u001b[1;33m\u001b[0m\u001b[0m\n\u001b[1;32m---> 14\u001b[1;33m     \u001b[0mstop\u001b[0m\u001b[1;33m\u001b[0m\u001b[0m\n\u001b[0m",
      "\u001b[1;31mNameError\u001b[0m: name 'stop' is not defined"
     ]
    }
   ],
   "source": [
    "for token in tokens:\n",
    "    print(token.surface, '\\t')                 # 表層形\n",
    "    print(token.part_of_speech.split(',')[0])   # 品詞\n",
    "    print(token.part_of_speech.split(',')[1])   # 品詞細分類1\n",
    "    print(token.part_of_speech.split(',')[2])   # 品詞細分類2\n",
    "    print(token.part_of_speech.split(',')[3])   # 品詞細分類3\n",
    "    print(token.infl_type)                      # 活用型\n",
    "    print(token.infl_form)                      # 活用形\n",
    "    print(token.base_form)                      # 原形\n",
    "    print(token.reading)                        # 読み\n",
    "    print(token.phonetic)                       # 発音\n",
    " \n",
    "    print(token.node_type)                      # node_type\n",
    "    stop"
   ]
  },
  {
   "cell_type": "code",
   "execution_count": null,
   "metadata": {
    "collapsed": true
   },
   "outputs": [],
   "source": []
  }
 ],
 "metadata": {
  "kernelspec": {
   "display_name": "Python 3",
   "language": "python",
   "name": "python3"
  },
  "language_info": {
   "codemirror_mode": {
    "name": "ipython",
    "version": 3
   },
   "file_extension": ".py",
   "mimetype": "text/x-python",
   "name": "python",
   "nbconvert_exporter": "python",
   "pygments_lexer": "ipython3",
   "version": "3.6.1"
  }
 },
 "nbformat": 4,
 "nbformat_minor": 2
}

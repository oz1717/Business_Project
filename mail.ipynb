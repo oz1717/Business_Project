{
 "cells": [
  {
   "cell_type": "code",
   "execution_count": 3,
   "metadata": {},
   "outputs": [
    {
     "name": "stdout",
     "output_type": "stream",
     "text": [
      "Email sent!\n"
     ]
    }
   ],
   "source": [
    "# smtplib module send mail\n",
    "import sys\n",
    "import os\n",
    "import smtplib\n",
    "from email import encoders\n",
    "from email.mime.base import MIMEBase\n",
    "from email.mime.multipart import MIMEMultipart\n",
    "from email.mime.text import MIMEText\n",
    "\n",
    "# Gmail Sign In\n",
    "gmail_sender = 'rogiwara.mba2018@london.edu'\n",
    "gmail_passwd = 'ogiwara17'\n",
    "\n",
    "SUBJECT = 'TEST'\n",
    "TO = 'ogiwara.r.ab@gmail.com'\n",
    "FROM = gmail_sender\n",
    "\n",
    "outer = MIMEMultipart()\n",
    "outer['Subject'] = SUBJECT\n",
    "outer['To'] = TO\n",
    "outer['From'] = FROM\n",
    "outer.preamble = 'You will not see this in a MIME-aware mail reader.\\n'\n",
    "\n",
    "part1 = MIMEText(\"マルセイバターサンド\", 'plain')\n",
    "outer.attach(part1)\n",
    "\n",
    "# Add attachments.\n",
    "attachments = [\"sample.png\"]\n",
    "\n",
    "# attachments to base64 data. \n",
    "for file in attachments:\n",
    "    try:\n",
    "        with open(file, 'rb') as fp:\n",
    "            msg = MIMEBase('application', \"octet-stream\")          \n",
    "            msg.set_payload(fp.read())\n",
    "        encoders.encode_base64(msg)      \n",
    "        msg.add_header('Content-Disposition', 'attachment', filename=os.path.basename(file))\n",
    "        outer.attach(msg)\n",
    "    except:\n",
    "        print(\"Unable to open one of the attachments. Error: \", sys.exc_info()[0])           \n",
    "        raise\n",
    "\n",
    "composed = outer.as_string()\n",
    "\n",
    "try:\n",
    "    with smtplib.SMTP('smtp.office365.com', 587) as s:\n",
    "        s.ehlo()\n",
    "        s.starttls()\n",
    "        s.login(gmail_sender, gmail_passwd)\n",
    "        s.sendmail(gmail_sender, TO, composed)\n",
    "        s.close()\n",
    "    print(\"Email sent!\")\n",
    "except:\n",
    "    print ('error sending mail')\n",
    "    raise"
   ]
  },
  {
   "cell_type": "code",
   "execution_count": null,
   "metadata": {
    "collapsed": true
   },
   "outputs": [],
   "source": []
  }
 ],
 "metadata": {
  "kernelspec": {
   "display_name": "Python 3",
   "language": "python",
   "name": "python3"
  },
  "language_info": {
   "codemirror_mode": {
    "name": "ipython",
    "version": 3
   },
   "file_extension": ".py",
   "mimetype": "text/x-python",
   "name": "python",
   "nbconvert_exporter": "python",
   "pygments_lexer": "ipython3",
   "version": "3.6.1"
  }
 },
 "nbformat": 4,
 "nbformat_minor": 2
}

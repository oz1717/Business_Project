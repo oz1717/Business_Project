{
 "cells": [
  {
   "cell_type": "code",
   "execution_count": 15,
   "metadata": {
    "collapsed": true
   },
   "outputs": [],
   "source": [
    "from requests_oauthlib import OAuth1Session\n",
    "import json\n",
    "import datetime, time, sys\n",
    "from abc import ABCMeta, abstractmethod\n",
    "import pandas as pd\n",
    "from pandas import Series, DataFrame"
   ]
  },
  {
   "cell_type": "code",
   "execution_count": 6,
   "metadata": {
    "collapsed": true
   },
   "outputs": [],
   "source": [
    "CK = '4qzQk73Qw5aJfAQ9dcrmWXkdm'                             # Consumer Key\n",
    "CS = '9o3yAxnEnkXOnFGGMdFTkTCDM6g6FjLt5RqNJAfzEq2KF8U59W'    # Consumer Secret\n",
    "AT = '115662117-P1nN3CHlh4bQhrWUMtHiz1xt5oYVt9eg8Ra7yzLq'    # Access Token\n",
    "AS = 'RrRIYr7l2EtyMQ5qMYIMM9FmxFxEK28pxR6pqRVES5oWX'         # Accesss Token Secert"
   ]
  },
  {
   "cell_type": "code",
   "execution_count": 7,
   "metadata": {},
   "outputs": [],
   "source": [
    "class TweetsGetter(object):\n",
    "    __metaclass__ = ABCMeta\n",
    " \n",
    "    def __init__(self):\n",
    "        self.session = OAuth1Session(CK, CS, AT, AS)\n",
    " \n",
    "    @abstractmethod\n",
    "    def specifyUrlAndParams(self, keyword):\n",
    "        '''\n",
    "        呼出し先 URL、パラメータを返す\n",
    "        '''\n",
    " \n",
    "    @abstractmethod\n",
    "    def pickupTweet(self, res_text, includeRetweet):\n",
    "        '''\n",
    "        res_text からツイートを取り出し、配列にセットして返却\n",
    "        '''\n",
    " \n",
    "    @abstractmethod\n",
    "    def getLimitContext(self, res_text):\n",
    "        '''\n",
    "        回数制限の情報を取得 （起動時）\n",
    "        '''\n",
    " \n",
    "    def collect(self, total = -1, onlyText = False, includeRetweet = False):\n",
    "        '''\n",
    "        ツイート取得を開始する\n",
    "        '''\n",
    " \n",
    "        #----------------\n",
    "        # 回数制限を確認\n",
    "        #----------------\n",
    "        self.checkLimit()\n",
    " \n",
    "        #----------------\n",
    "        # URL、パラメータ\n",
    "        #----------------\n",
    "        url, params = self.specifyUrlAndParams()\n",
    "        params['include_rts'] = str(includeRetweet).lower()\n",
    "        # include_rts は statuses/user_timeline のパラメータ。search/tweets には無効\n",
    " \n",
    "        #----------------\n",
    "        # ツイート取得\n",
    "        #----------------\n",
    "        cnt = 0\n",
    "        unavailableCnt = 0\n",
    "        while True:\n",
    "            res = self.session.get(url, params = params)\n",
    "            if res.status_code == 503:\n",
    "                # 503 : Service Unavailable\n",
    "                if unavailableCnt > 10:\n",
    "                    raise Exception('Twitter API error %d' % res.status_code)\n",
    " \n",
    "                unavailableCnt += 1\n",
    "                print ('Service Unavailable 503')\n",
    "                self.waitUntilReset(time.mktime(datetime.datetime.now().timetuple()) + 30)\n",
    "                continue\n",
    " \n",
    "            unavailableCnt = 0\n",
    " \n",
    "            if res.status_code != 200:\n",
    "                raise Exception('Twitter API error %d' % res.status_code)\n",
    " \n",
    "            tweets = self.pickupTweet(json.loads(res.text))\n",
    "            if len(tweets) == 0:\n",
    "                # len(tweets) != params['count'] としたいが\n",
    "                # count は最大値らしいので判定に使えない。\n",
    "                # ⇒  \"== 0\" にする\n",
    "                # https://dev.twitter.com/discussions/7513\n",
    "                break\n",
    " \n",
    "            for tweet in tweets:\n",
    "                if (('retweeted_status' in tweet) and (includeRetweet is False)):\n",
    "                    pass\n",
    "                else:\n",
    "                    if onlyText is True:\n",
    "                        yield tweet['text']\n",
    "                    else:\n",
    "                        yield tweet\n",
    " \n",
    "                    cnt += 1\n",
    "                    if cnt % 100 == 0:\n",
    "                        print ('%d件 ' % cnt)\n",
    " \n",
    "                    if total > 0 and cnt >= total:\n",
    "                        return\n",
    " \n",
    "            params['max_id'] = tweet['id'] - 1\n",
    " \n",
    "            # ヘッダ確認 （回数制限）\n",
    "            # X-Rate-Limit-Remaining が入ってないことが稀にあるのでチェック\n",
    "            if ('X-Rate-Limit-Remaining' in res.headers and 'X-Rate-Limit-Reset' in res.headers):\n",
    "                if (int(res.headers['X-Rate-Limit-Remaining']) == 0):\n",
    "                    self.waitUntilReset(int(res.headers['X-Rate-Limit-Reset']))\n",
    "                    self.checkLimit()\n",
    "            else:\n",
    "                print ('not found  -  X-Rate-Limit-Remaining or X-Rate-Limit-Reset')\n",
    "                self.checkLimit()\n",
    " \n",
    "    def checkLimit(self):\n",
    "        '''\n",
    "        回数制限を問合せ、アクセス可能になるまで wait する\n",
    "        '''\n",
    "        unavailableCnt = 0\n",
    "        while True:\n",
    "            url = \"https://api.twitter.com/1.1/application/rate_limit_status.json\"\n",
    "            res = self.session.get(url)\n",
    " \n",
    "            if res.status_code == 503:\n",
    "                # 503 : Service Unavailable\n",
    "                if unavailableCnt > 10:\n",
    "                    raise Exception('Twitter API error %d' % res.status_code)\n",
    " \n",
    "                unavailableCnt += 1\n",
    "                print ('Service Unavailable 503')\n",
    "                self.waitUntilReset(time.mktime(datetime.datetime.now().timetuple()) + 30)\n",
    "                continue\n",
    " \n",
    "            unavailableCnt = 0\n",
    " \n",
    "            if res.status_code != 200:\n",
    "                raise Exception('Twitter API error %d' % res.status_code)\n",
    " \n",
    "            remaining, reset = self.getLimitContext(json.loads(res.text))\n",
    "            if (remaining == 0):\n",
    "                self.waitUntilReset(reset)\n",
    "            else:\n",
    "                break\n",
    " \n",
    "    def waitUntilReset(self, reset):\n",
    "        '''\n",
    "        reset 時刻まで sleep\n",
    "        '''\n",
    "        seconds = reset - time.mktime(datetime.datetime.now().timetuple())\n",
    "        seconds = max(seconds, 0)\n",
    "        print ('\\n     =====================')\n",
    "        print ('     == waiting %d sec ==' % seconds)\n",
    "        print ('     =====================')\n",
    "        sys.stdout.flush()\n",
    "        time.sleep(seconds + 10)  # 念のため + 10 秒\n",
    " \n",
    "    @staticmethod\n",
    "    def bySearch(keyword):\n",
    "        return TweetsGetterBySearch(keyword)\n",
    " \n",
    "    @staticmethod\n",
    "    def byUser(screen_name):\n",
    "        return TweetsGetterByUser(screen_name)\n",
    " "
   ]
  },
  {
   "cell_type": "code",
   "execution_count": 8,
   "metadata": {},
   "outputs": [],
   "source": [
    "class TweetsGetterBySearch(TweetsGetter):\n",
    "    '''\n",
    "    キーワードでツイートを検索\n",
    "    '''\n",
    "    def __init__(self, keyword):\n",
    "        super(TweetsGetterBySearch, self).__init__()\n",
    "        self.keyword = keyword\n",
    "        \n",
    "    def specifyUrlAndParams(self):\n",
    "        '''\n",
    "        呼出し先 URL、パラメータを返す\n",
    "        '''\n",
    "        url = 'https://api.twitter.com/1.1/search/tweets.json'\n",
    "        params = {'q':self.keyword, 'count':100}\n",
    "        return url, params\n",
    " \n",
    "    def pickupTweet(self, res_text):\n",
    "        '''\n",
    "        res_text からツイートを取り出し、配列にセットして返却\n",
    "        '''\n",
    "        results = []\n",
    "        for tweet in res_text['statuses']:\n",
    "            results.append(tweet)\n",
    " \n",
    "        return results\n",
    " \n",
    "    def getLimitContext(self, res_text):\n",
    "        '''\n",
    "        回数制限の情報を取得 （起動時）\n",
    "        '''\n",
    "        remaining = res_text['resources']['search']['/search/tweets']['remaining']\n",
    "        reset     = res_text['resources']['search']['/search/tweets']['reset']\n",
    " \n",
    "        return int(remaining), int(reset)"
   ]
  },
  {
   "cell_type": "code",
   "execution_count": 9,
   "metadata": {},
   "outputs": [
    {
     "name": "stdout",
     "output_type": "stream",
     "text": [
      "100件 \n",
      "200件 \n",
      "300件 \n",
      "400件 \n",
      "500件 \n",
      "600件 \n"
     ]
    }
   ],
   "source": [
    "created_at = []\n",
    "text = []\n",
    "\n",
    "# キーワードで取得\n",
    "getter = TweetsGetter.bySearch('八幡浜 AND -filter:retweets AND -filter:replies')\n",
    "\n",
    "# ユーザーを指定して取得 （screen_name）\n",
    "#getter = TweetsGetter.byUser('AbeShinzo')\n",
    "\n",
    "cnt = 0\n",
    "for tweet in getter.collect(total = 1000000):\n",
    "    #cnt += 1\n",
    "    #print ('------ %d' % cnt)\n",
    "    #print ('{} {} {}'.format(tweet['id'], tweet['created_at'], '@'+tweet['user']['screen_name']))\n",
    "    #print (tweet['text'])\n",
    "    created_at.append(tweet['created_at'])\n",
    "    text.append(tweet['text'])"
   ]
  },
  {
   "cell_type": "code",
   "execution_count": 53,
   "metadata": {},
   "outputs": [],
   "source": [
    "created_at = Series(created_at)\n",
    "text = Series(text)\n",
    "\n",
    "#各シリーズをデータフレーム化\n",
    "YH_df = pd.concat([created_at, text],axis=1)\n",
    "\n",
    "#カラム名\n",
    "YH_df.columns=['created_at','text']\n",
    "\n",
    "#csvファイルとして保存\n",
    "YH_df.to_csv('Yawatahama_25042018.csv', sep = '\\t',encoding='utf-16')"
   ]
  },
  {
   "cell_type": "code",
   "execution_count": 54,
   "metadata": {},
   "outputs": [
    {
     "data": {
      "text/html": [
       "<div>\n",
       "<style>\n",
       "    .dataframe thead tr:only-child th {\n",
       "        text-align: right;\n",
       "    }\n",
       "\n",
       "    .dataframe thead th {\n",
       "        text-align: left;\n",
       "    }\n",
       "\n",
       "    .dataframe tbody tr th {\n",
       "        vertical-align: top;\n",
       "    }\n",
       "</style>\n",
       "<table border=\"1\" class=\"dataframe\">\n",
       "  <thead>\n",
       "    <tr style=\"text-align: right;\">\n",
       "      <th></th>\n",
       "      <th>created_at</th>\n",
       "      <th>text</th>\n",
       "    </tr>\n",
       "  </thead>\n",
       "  <tbody>\n",
       "    <tr>\n",
       "      <th>0</th>\n",
       "      <td>Wed Apr 25 12:42:12 +0000 2018</td>\n",
       "      <td>夕陽にカンパイしながらのエロ話が楽しい、愛媛・八幡浜の宿 https://t.co/Wih4...</td>\n",
       "    </tr>\n",
       "    <tr>\n",
       "      <th>1</th>\n",
       "      <td>Wed Apr 25 12:27:41 +0000 2018</td>\n",
       "      <td>玉ねぎの収穫が始まりだしました。\\nまずは極早生から。\\n#新玉ねぎ #玉ねぎ #極早生 #...</td>\n",
       "    </tr>\n",
       "    <tr>\n",
       "      <th>2</th>\n",
       "      <td>Wed Apr 25 12:09:17 +0000 2018</td>\n",
       "      <td>夕陽にカンパイしながらのエロ話が楽しい、愛媛・八幡浜の宿 https://t.co/had3...</td>\n",
       "    </tr>\n",
       "    <tr>\n",
       "      <th>3</th>\n",
       "      <td>Wed Apr 25 12:07:43 +0000 2018</td>\n",
       "      <td>大洗も苫小牧も小樽も東舞鶴も東予も松山も別府も西大分も神戸も大阪も徳島も高松も宇野も呉も広島...</td>\n",
       "    </tr>\n",
       "    <tr>\n",
       "      <th>4</th>\n",
       "      <td>Wed Apr 25 11:52:27 +0000 2018</td>\n",
       "      <td>名坂おかげ地蔵で春の縁日: 八幡浜市大平の「名坂おかげ地蔵」で24日、春の縁日祭が催され、法...</td>\n",
       "    </tr>\n",
       "  </tbody>\n",
       "</table>\n",
       "</div>"
      ],
      "text/plain": [
       "                       created_at  \\\n",
       "0  Wed Apr 25 12:42:12 +0000 2018   \n",
       "1  Wed Apr 25 12:27:41 +0000 2018   \n",
       "2  Wed Apr 25 12:09:17 +0000 2018   \n",
       "3  Wed Apr 25 12:07:43 +0000 2018   \n",
       "4  Wed Apr 25 11:52:27 +0000 2018   \n",
       "\n",
       "                                                text  \n",
       "0  夕陽にカンパイしながらのエロ話が楽しい、愛媛・八幡浜の宿 https://t.co/Wih4...  \n",
       "1  玉ねぎの収穫が始まりだしました。\\nまずは極早生から。\\n#新玉ねぎ #玉ねぎ #極早生 #...  \n",
       "2  夕陽にカンパイしながらのエロ話が楽しい、愛媛・八幡浜の宿 https://t.co/had3...  \n",
       "3  大洗も苫小牧も小樽も東舞鶴も東予も松山も別府も西大分も神戸も大阪も徳島も高松も宇野も呉も広島...  \n",
       "4  名坂おかげ地蔵で春の縁日: 八幡浜市大平の「名坂おかげ地蔵」で24日、春の縁日祭が催され、法...  "
      ]
     },
     "execution_count": 54,
     "metadata": {},
     "output_type": "execute_result"
    }
   ],
   "source": [
    "YH_df.head()"
   ]
  },
  {
   "cell_type": "code",
   "execution_count": 65,
   "metadata": {
    "collapsed": true
   },
   "outputs": [],
   "source": [
    "%matplotlib inline\n",
    "import matplotlib.pyplot as plt\n",
    "import seaborn as sns\n",
    "sns.set(color_codes=True)"
   ]
  },
  {
   "cell_type": "code",
   "execution_count": 66,
   "metadata": {},
   "outputs": [],
   "source": [
    "from dateutil import parser\n",
    "YH_df[\"date\"] = YH_df[\"created_at\"].apply(parser.parse)\n",
    "YH_df[\"date\"] = pd.to_datetime(YH_df[\"date\"])"
   ]
  },
  {
   "cell_type": "code",
   "execution_count": 67,
   "metadata": {},
   "outputs": [
    {
     "data": {
      "text/plain": [
       "<matplotlib.axes._subplots.AxesSubplot at 0x2069feb36a0>"
      ]
     },
     "execution_count": 67,
     "metadata": {},
     "output_type": "execute_result"
    },
    {
     "data": {
      "image/png": "[encoded data removed]",
      "text/plain": [
       "<matplotlib.figure.Figure at 0x2069fd09668>"
      ]
     },
     "metadata": {},
     "output_type": "display_data"
    }
   ],
   "source": [
    "YH_df.groupby(YH_df[\"date\"].dt.date).date.count().plot(kind=\"bar\")\n",
    "#sns.distplot(YH_df[\"date\"])\n"
   ]
  },
  {
   "cell_type": "code",
   "execution_count": null,
   "metadata": {
    "collapsed": true
   },
   "outputs": [],
   "source": []
  }
 ],
 "metadata": {
  "kernelspec": {
   "display_name": "Python 3",
   "language": "python",
   "name": "python3"
  },
  "language_info": {
   "codemirror_mode": {
    "name": "ipython",
    "version": 3
   },
   "file_extension": ".py",
   "mimetype": "text/x-python",
   "name": "python",
   "nbconvert_exporter": "python",
   "pygments_lexer": "ipython3",
   "version": "3.6.1"
  }
 },
 "nbformat": 4,
 "nbformat_minor": 2
}

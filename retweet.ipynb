{
 "cells": [
  {
   "cell_type": "code",
   "execution_count": 1,
   "metadata": {
    "collapsed": true
   },
   "outputs": [],
   "source": [
    "%matplotlib inline\n",
    "\n",
    "import pandas as pd\n",
    "import matplotlib.pyplot as plt\n",
    "import seaborn as sns\n",
    "from dateutil import parser\n",
    "sns.set(color_codes=True)"
   ]
  },
  {
   "cell_type": "code",
   "execution_count": 2,
   "metadata": {
    "collapsed": true
   },
   "outputs": [],
   "source": [
    "YH_df = pd.read_csv(\"tweet/2018-05-01/yawatahama_2018-05-01.csv\", sep = '\\t', encoding='utf-16')"
   ]
  },
  {
   "cell_type": "code",
   "execution_count": 12,
   "metadata": {},
   "outputs": [
    {
     "data": {
      "text/plain": [
       "['国指定重要文化財\\r\\n「八幡浜市立日土小学校」\\r\\n\\r\\n日本一美しい小学校とも呼ばれているそうです。 https://t.co/Mh6sw7EzhY',\n",
       " '愛媛県高校総体サッカー\\r\\n県大会出場校\\r\\n【東予】7\\r\\n今治東、新居浜工、今治西、新居浜西、東予、三島、今治工\\r\\n【中予】6\\r\\n松山工、松山北、新田、松山聖陵、済美、松山東\\r\\n【南予】6\\r\\n宇和島東、帝京第五、八幡浜工、吉田、南宇和、大洲\\r\\n\\r\\n県… https://t.co/qB4ELKBsYL',\n",
       " '明日夜は重要文化財「八幡浜市立日土（ひづち）小学校」。愛媛県の山間に佇む現役の小学校。子どもたちへの愛情が詰まった“日本一美しい小学校”には、川に張り出したベランダが…校舎の端に浮かぶ豪華な部屋は一体！？まさにユートピア！小学生に戻って、ここに通いたくなりますよ！',\n",
       " '神田沙也加です。4月28日OA四国愛媛県の八幡浜市立日土小学校の校舎は、淡いパステル調の色がとっても素敵。下駄箱や階段など、すべて子どもの使い勝手がいいように設計されています。受け手のことを思ってつくるのは、芸術だけでなく、芸事も同じかなあ。役者が舞台に立つ姿勢と似ています。',\n",
       " '次回の「美の巨人たち」は日本で一番美しい木造小学校、八幡浜市立日土小学校 \\r\\nhttps://t.co/CaKZMPbPuv https://t.co/DWiLQ3WNgv']"
      ]
     },
     "execution_count": 12,
     "metadata": {},
     "output_type": "execute_result"
    }
   ],
   "source": [
    "YH_df['text'].value_counts().index.tolist()[:5]"
   ]
  },
  {
   "cell_type": "code",
   "execution_count": 15,
   "metadata": {},
   "outputs": [
    {
     "data": {
      "text/plain": [
       "[43, 40, 31, 29, 27]"
      ]
     },
     "execution_count": 15,
     "metadata": {},
     "output_type": "execute_result"
    }
   ],
   "source": [
    "YH_df['text'].value_counts().tolist()[:5]"
   ]
  },
  {
   "cell_type": "code",
   "execution_count": 19,
   "metadata": {},
   "outputs": [
    {
     "name": "stdout",
     "output_type": "stream",
     "text": [
      "国指定重要文化財\r\n",
      "「八幡浜市立日土小学校」\r\n",
      "\r\n",
      "日本一美しい小学校とも呼ばれているそうです。 https://t.co/Mh6sw7EzhY\n"
     ]
    }
   ],
   "source": [
    "print(YH_df['text'].value_counts().index.tolist()[0])"
   ]
  },
  {
   "cell_type": "code",
   "execution_count": null,
   "metadata": {
    "collapsed": true
   },
   "outputs": [],
   "source": []
  }
 ],
 "metadata": {
  "kernelspec": {
   "display_name": "Python 3",
   "language": "python",
   "name": "python3"
  },
  "language_info": {
   "codemirror_mode": {
    "name": "ipython",
    "version": 3
   },
   "file_extension": ".py",
   "mimetype": "text/x-python",
   "name": "python",
   "nbconvert_exporter": "python",
   "pygments_lexer": "ipython3",
   "version": "3.6.1"
  }
 },
 "nbformat": 4,
 "nbformat_minor": 2
}

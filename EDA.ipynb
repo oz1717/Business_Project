{
 "cells": [
  {
   "cell_type": "code",
   "execution_count": 1,
   "metadata": {
    "collapsed": true
   },
   "outputs": [],
   "source": [
    "%matplotlib inline\n",
    "\n",
    "import pandas as pd\n",
    "import matplotlib.pyplot as plt\n",
    "import seaborn as sns\n",
    "from dateutil import parser\n",
    "sns.set(color_codes=True)"
   ]
  },
  {
   "cell_type": "code",
   "execution_count": 2,
   "metadata": {
    "collapsed": true
   },
   "outputs": [],
   "source": [
    "YH_df = pd.read_csv(\"tweet/2018-05-01/yawatahama_2018-05-01.csv\", sep = '\\t', encoding='utf-16')"
   ]
  },
  {
   "cell_type": "code",
   "execution_count": 3,
   "metadata": {},
   "outputs": [
    {
     "data": {
      "text/html": [
       "<div>\n",
       "<style>\n",
       "    .dataframe thead tr:only-child th {\n",
       "        text-align: right;\n",
       "    }\n",
       "\n",
       "    .dataframe thead th {\n",
       "        text-align: left;\n",
       "    }\n",
       "\n",
       "    .dataframe tbody tr th {\n",
       "        vertical-align: top;\n",
       "    }\n",
       "</style>\n",
       "<table border=\"1\" class=\"dataframe\">\n",
       "  <thead>\n",
       "    <tr style=\"text-align: right;\">\n",
       "      <th></th>\n",
       "      <th>Unnamed: 0</th>\n",
       "      <th>created_at</th>\n",
       "      <th>text</th>\n",
       "      <th>RT</th>\n",
       "    </tr>\n",
       "  </thead>\n",
       "  <tbody>\n",
       "    <tr>\n",
       "      <th>0</th>\n",
       "      <td>0</td>\n",
       "      <td>Mon Apr 30 23:49:06 +0000 2018</td>\n",
       "      <td>よほぉーい！貴様らー！マガレ兄さんだぞぉ！大阪で尻込みしてしまって、故郷に帰ったのは一昨日な...</td>\n",
       "      <td>False</td>\n",
       "    </tr>\n",
       "    <tr>\n",
       "      <th>1</th>\n",
       "      <td>1</td>\n",
       "      <td>Mon Apr 30 23:20:42 +0000 2018</td>\n",
       "      <td>八幡浜市街地界隈の道狭すぎワロス</td>\n",
       "      <td>False</td>\n",
       "    </tr>\n",
       "    <tr>\n",
       "      <th>2</th>\n",
       "      <td>2</td>\n",
       "      <td>Mon Apr 30 23:03:46 +0000 2018</td>\n",
       "      <td>おはようございました\\r\\n八幡浜へ https://t.co/mh2YJkQoQC</td>\n",
       "      <td>False</td>\n",
       "    </tr>\n",
       "    <tr>\n",
       "      <th>3</th>\n",
       "      <td>3</td>\n",
       "      <td>Mon Apr 30 22:52:31 +0000 2018</td>\n",
       "      <td>愛媛鉄道長浜町駅　機関車の後部が気になる\\r\\n目で見る大洲・八幡浜・喜多・西宇和・東宇和の...</td>\n",
       "      <td>False</td>\n",
       "    </tr>\n",
       "    <tr>\n",
       "      <th>4</th>\n",
       "      <td>4</td>\n",
       "      <td>Mon Apr 30 22:47:58 +0000 2018</td>\n",
       "      <td>平成29年度　情報公開・個人情報保護制度の実施状況の公表について: １　八幡浜市情報公開条例...</td>\n",
       "      <td>False</td>\n",
       "    </tr>\n",
       "  </tbody>\n",
       "</table>\n",
       "</div>"
      ],
      "text/plain": [
       "  Unnamed: 0                      created_at  \\\n",
       "0          0  Mon Apr 30 23:49:06 +0000 2018   \n",
       "1          1  Mon Apr 30 23:20:42 +0000 2018   \n",
       "2          2  Mon Apr 30 23:03:46 +0000 2018   \n",
       "3          3  Mon Apr 30 22:52:31 +0000 2018   \n",
       "4          4  Mon Apr 30 22:47:58 +0000 2018   \n",
       "\n",
       "                                                text     RT  \n",
       "0  よほぉーい！貴様らー！マガレ兄さんだぞぉ！大阪で尻込みしてしまって、故郷に帰ったのは一昨日な...  False  \n",
       "1                                   八幡浜市街地界隈の道狭すぎワロス  False  \n",
       "2         おはようございました\\r\\n八幡浜へ https://t.co/mh2YJkQoQC  False  \n",
       "3  愛媛鉄道長浜町駅　機関車の後部が気になる\\r\\n目で見る大洲・八幡浜・喜多・西宇和・東宇和の...  False  \n",
       "4  平成29年度　情報公開・個人情報保護制度の実施状況の公表について: １　八幡浜市情報公開条例...  False  "
      ]
     },
     "execution_count": 3,
     "metadata": {},
     "output_type": "execute_result"
    }
   ],
   "source": [
    "YH_df.head(5)"
   ]
  },
  {
   "cell_type": "code",
   "execution_count": 4,
   "metadata": {},
   "outputs": [
    {
     "data": {
      "text/plain": [
       "(1116, 4)"
      ]
     },
     "execution_count": 4,
     "metadata": {},
     "output_type": "execute_result"
    }
   ],
   "source": [
    "YH_df.shape"
   ]
  },
  {
   "cell_type": "code",
   "execution_count": 5,
   "metadata": {
    "collapsed": true
   },
   "outputs": [],
   "source": [
    "#YH_df[\"date\"] = YH_df[\"created_at\"].str.encode('utf-8').apply(parser.parse)\n",
    "#YH_df[\"date\"] = pd.to_datetime(YH_df[\"date\"])\n",
    "YH_df[\"date\"] = pd.to_datetime(YH_df[\"created_at\"], errors='coerce')"
   ]
  },
  {
   "cell_type": "code",
   "execution_count": 6,
   "metadata": {},
   "outputs": [
    {
     "data": {
      "text/plain": [
       "<matplotlib.axes._subplots.AxesSubplot at 0x172896222e8>"
      ]
     },
     "execution_count": 6,
     "metadata": {},
     "output_type": "execute_result"
    },
    {
     "data": {
      "image/png": "[encoded data removed]",
      "text/plain": [
       "<matplotlib.figure.Figure at 0x17288614a20>"
      ]
     },
     "metadata": {},
     "output_type": "display_data"
    }
   ],
   "source": [
    "YH_df.groupby(YH_df[\"date\"].dt.date).date.count().plot(kind=\"bar\")"
   ]
  },
  {
   "cell_type": "code",
   "execution_count": 7,
   "metadata": {
    "collapsed": true
   },
   "outputs": [],
   "source": [
    "ID_df = pd.read_csv(\"tweet/2018-05-08/iidashi_2018-05-08.csv\", sep = '\\t', encoding='utf-16')"
   ]
  },
  {
   "cell_type": "code",
   "execution_count": 8,
   "metadata": {},
   "outputs": [
    {
     "data": {
      "text/html": [
       "<div>\n",
       "<style>\n",
       "    .dataframe thead tr:only-child th {\n",
       "        text-align: right;\n",
       "    }\n",
       "\n",
       "    .dataframe thead th {\n",
       "        text-align: left;\n",
       "    }\n",
       "\n",
       "    .dataframe tbody tr th {\n",
       "        vertical-align: top;\n",
       "    }\n",
       "</style>\n",
       "<table border=\"1\" class=\"dataframe\">\n",
       "  <thead>\n",
       "    <tr style=\"text-align: right;\">\n",
       "      <th></th>\n",
       "      <th>Unnamed: 0</th>\n",
       "      <th>created_at</th>\n",
       "      <th>text</th>\n",
       "      <th>RT</th>\n",
       "    </tr>\n",
       "  </thead>\n",
       "  <tbody>\n",
       "    <tr>\n",
       "      <th>0</th>\n",
       "      <td>0</td>\n",
       "      <td>Mon May 07 23:49:44 +0000 2018</td>\n",
       "      <td>飯田市のパン事情を視察だに。</td>\n",
       "      <td>False</td>\n",
       "    </tr>\n",
       "    <tr>\n",
       "      <th>1</th>\n",
       "      <td>1</td>\n",
       "      <td>Mon May 07 23:48:02 +0000 2018</td>\n",
       "      <td>登録女性は女子力高め！？女性誌で宣伝してるだけある！\\r\\n　\\r\\n長野県飯田市\\r\\nス...</td>\n",
       "      <td>False</td>\n",
       "    </tr>\n",
       "    <tr>\n",
       "      <th>2</th>\n",
       "      <td>2</td>\n",
       "      <td>Mon May 07 23:43:00 +0000 2018</td>\n",
       "      <td>≪長野県：飯田市≫　飯田市防災行政無線デジタル化整備工事・公募型プロポーザルの実施について ...</td>\n",
       "      <td>False</td>\n",
       "    </tr>\n",
       "    <tr>\n",
       "      <th>3</th>\n",
       "      <td>3</td>\n",
       "      <td>Mon May 07 23:42:44 +0000 2018</td>\n",
       "      <td>I'm at Fラン高校 in 飯田市, 長野県 w/ @pokako6022 @arisa...</td>\n",
       "      <td>False</td>\n",
       "    </tr>\n",
       "    <tr>\n",
       "      <th>4</th>\n",
       "      <td>4</td>\n",
       "      <td>Mon May 07 23:38:41 +0000 2018</td>\n",
       "      <td>🔳長野県：NEWS🔳　リニア認可、審査請求へ　県内など沿線住民〔信濃毎日新聞〕https:/...</td>\n",
       "      <td>False</td>\n",
       "    </tr>\n",
       "  </tbody>\n",
       "</table>\n",
       "</div>"
      ],
      "text/plain": [
       "   Unnamed: 0                      created_at  \\\n",
       "0           0  Mon May 07 23:49:44 +0000 2018   \n",
       "1           1  Mon May 07 23:48:02 +0000 2018   \n",
       "2           2  Mon May 07 23:43:00 +0000 2018   \n",
       "3           3  Mon May 07 23:42:44 +0000 2018   \n",
       "4           4  Mon May 07 23:38:41 +0000 2018   \n",
       "\n",
       "                                                text     RT  \n",
       "0                                     飯田市のパン事情を視察だに。  False  \n",
       "1  登録女性は女子力高め！？女性誌で宣伝してるだけある！\\r\\n　\\r\\n長野県飯田市\\r\\nス...  False  \n",
       "2  ≪長野県：飯田市≫　飯田市防災行政無線デジタル化整備工事・公募型プロポーザルの実施について ...  False  \n",
       "3  I'm at Fラン高校 in 飯田市, 長野県 w/ @pokako6022 @arisa...  False  \n",
       "4  🔳長野県：NEWS🔳　リニア認可、審査請求へ　県内など沿線住民〔信濃毎日新聞〕https:/...  False  "
      ]
     },
     "execution_count": 8,
     "metadata": {},
     "output_type": "execute_result"
    }
   ],
   "source": [
    "ID_df.head()"
   ]
  },
  {
   "cell_type": "code",
   "execution_count": 9,
   "metadata": {},
   "outputs": [
    {
     "data": {
      "text/plain": [
       "(208, 4)"
      ]
     },
     "execution_count": 9,
     "metadata": {},
     "output_type": "execute_result"
    }
   ],
   "source": [
    "ID_df.shape"
   ]
  },
  {
   "cell_type": "code",
   "execution_count": 10,
   "metadata": {
    "collapsed": true
   },
   "outputs": [],
   "source": [
    "ID_df[\"date\"] = pd.to_datetime(ID_df[\"created_at\"], errors='coerce')"
   ]
  },
  {
   "cell_type": "code",
   "execution_count": 11,
   "metadata": {},
   "outputs": [
    {
     "data": {
      "text/plain": [
       "<matplotlib.axes._subplots.AxesSubplot at 0x172896bec18>"
      ]
     },
     "execution_count": 11,
     "metadata": {},
     "output_type": "execute_result"
    },
    {
     "data": {
      "image/png": "[encoded data removed]",
      "text/plain": [
       "<matplotlib.figure.Figure at 0x172896e0fd0>"
      ]
     },
     "metadata": {},
     "output_type": "display_data"
    }
   ],
   "source": [
    "ID_df.groupby(ID_df[\"date\"].dt.date).date.count().plot(kind=\"bar\")"
   ]
  },
  {
   "cell_type": "code",
   "execution_count": 12,
   "metadata": {},
   "outputs": [
    {
     "data": {
      "text/plain": [
       "'よほぉーい！貴様らー！マガレ兄さんだぞぉ！大阪で尻込みしてしまって、故郷に帰ったのは一昨日なんだ。帰宅早々、両親に「ライブ観に行く」とだけ言って家を飛び出した。勿論、八幡浜SDにお笑いクラストコアバンドの「巨根トライアングル」を観にだ。巨根の面々、巨根を観に来た皆様は黒く輝いてた'"
      ]
     },
     "execution_count": 12,
     "metadata": {},
     "output_type": "execute_result"
    }
   ],
   "source": [
    "YH_df['text'][0]"
   ]
  },
  {
   "cell_type": "code",
   "execution_count": 1,
   "metadata": {
    "scrolled": false
   },
   "outputs": [],
   "source": [
    "#for i in range(100):\n",
    "#    print(i, ': ', YH_df['text'][i])"
   ]
  },
  {
   "cell_type": "code",
   "execution_count": null,
   "metadata": {
    "collapsed": true
   },
   "outputs": [],
   "source": []
  }
 ],
 "metadata": {
  "kernelspec": {
   "display_name": "Python 3",
   "language": "python",
   "name": "python3"
  },
  "language_info": {
   "codemirror_mode": {
    "name": "ipython",
    "version": 3
   },
   "file_extension": ".py",
   "mimetype": "text/x-python",
   "name": "python",
   "nbconvert_exporter": "python",
   "pygments_lexer": "ipython3",
   "version": "3.6.1"
  }
 },
 "nbformat": 4,
 "nbformat_minor": 2
}

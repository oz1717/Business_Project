{
 "cells": [
  {
   "cell_type": "code",
   "execution_count": 1,
   "metadata": {
    "collapsed": true
   },
   "outputs": [],
   "source": [
    "%matplotlib inline\n",
    "\n",
    "import pandas as pd\n",
    "import matplotlib.pyplot as plt\n",
    "import seaborn as sns\n",
    "from dateutil import parser\n",
    "sns.set(color_codes=True)"
   ]
  },
  {
   "cell_type": "code",
   "execution_count": 2,
   "metadata": {
    "collapsed": true
   },
   "outputs": [],
   "source": [
    "YH_df = pd.read_csv(\"tweet/2018-05-01/yawatahama_2018-05-01.csv\", sep = '\\t', encoding='utf-16')"
   ]
  },
  {
   "cell_type": "code",
   "execution_count": 3,
   "metadata": {},
   "outputs": [
    {
     "data": {
      "text/html": [
       "<div>\n",
       "<style>\n",
       "    .dataframe thead tr:only-child th {\n",
       "        text-align: right;\n",
       "    }\n",
       "\n",
       "    .dataframe thead th {\n",
       "        text-align: left;\n",
       "    }\n",
       "\n",
       "    .dataframe tbody tr th {\n",
       "        vertical-align: top;\n",
       "    }\n",
       "</style>\n",
       "<table border=\"1\" class=\"dataframe\">\n",
       "  <thead>\n",
       "    <tr style=\"text-align: right;\">\n",
       "      <th></th>\n",
       "      <th>Unnamed: 0</th>\n",
       "      <th>created_at</th>\n",
       "      <th>text</th>\n",
       "      <th>RT</th>\n",
       "    </tr>\n",
       "  </thead>\n",
       "  <tbody>\n",
       "    <tr>\n",
       "      <th>0</th>\n",
       "      <td>0</td>\n",
       "      <td>Mon Apr 30 23:49:06 +0000 2018</td>\n",
       "      <td>よほぉーい！貴様らー！マガレ兄さんだぞぉ！大阪で尻込みしてしまって、故郷に帰ったのは一昨日な...</td>\n",
       "      <td>False</td>\n",
       "    </tr>\n",
       "    <tr>\n",
       "      <th>1</th>\n",
       "      <td>1</td>\n",
       "      <td>Mon Apr 30 23:20:42 +0000 2018</td>\n",
       "      <td>八幡浜市街地界隈の道狭すぎワロス</td>\n",
       "      <td>False</td>\n",
       "    </tr>\n",
       "    <tr>\n",
       "      <th>2</th>\n",
       "      <td>2</td>\n",
       "      <td>Mon Apr 30 23:03:46 +0000 2018</td>\n",
       "      <td>おはようございました\\r\\n八幡浜へ https://t.co/mh2YJkQoQC</td>\n",
       "      <td>False</td>\n",
       "    </tr>\n",
       "    <tr>\n",
       "      <th>3</th>\n",
       "      <td>3</td>\n",
       "      <td>Mon Apr 30 22:52:31 +0000 2018</td>\n",
       "      <td>愛媛鉄道長浜町駅　機関車の後部が気になる\\r\\n目で見る大洲・八幡浜・喜多・西宇和・東宇和の...</td>\n",
       "      <td>False</td>\n",
       "    </tr>\n",
       "    <tr>\n",
       "      <th>4</th>\n",
       "      <td>4</td>\n",
       "      <td>Mon Apr 30 22:47:58 +0000 2018</td>\n",
       "      <td>平成29年度　情報公開・個人情報保護制度の実施状況の公表について: １　八幡浜市情報公開条例...</td>\n",
       "      <td>False</td>\n",
       "    </tr>\n",
       "  </tbody>\n",
       "</table>\n",
       "</div>"
      ],
      "text/plain": [
       "  Unnamed: 0                      created_at  \\\n",
       "0          0  Mon Apr 30 23:49:06 +0000 2018   \n",
       "1          1  Mon Apr 30 23:20:42 +0000 2018   \n",
       "2          2  Mon Apr 30 23:03:46 +0000 2018   \n",
       "3          3  Mon Apr 30 22:52:31 +0000 2018   \n",
       "4          4  Mon Apr 30 22:47:58 +0000 2018   \n",
       "\n",
       "                                                text     RT  \n",
       "0  よほぉーい！貴様らー！マガレ兄さんだぞぉ！大阪で尻込みしてしまって、故郷に帰ったのは一昨日な...  False  \n",
       "1                                   八幡浜市街地界隈の道狭すぎワロス  False  \n",
       "2         おはようございました\\r\\n八幡浜へ https://t.co/mh2YJkQoQC  False  \n",
       "3  愛媛鉄道長浜町駅　機関車の後部が気になる\\r\\n目で見る大洲・八幡浜・喜多・西宇和・東宇和の...  False  \n",
       "4  平成29年度　情報公開・個人情報保護制度の実施状況の公表について: １　八幡浜市情報公開条例...  False  "
      ]
     },
     "execution_count": 3,
     "metadata": {},
     "output_type": "execute_result"
    }
   ],
   "source": [
    "YH_df.head(5)"
   ]
  },
  {
   "cell_type": "code",
   "execution_count": 4,
   "metadata": {},
   "outputs": [
    {
     "data": {
      "text/plain": [
       "(1116, 4)"
      ]
     },
     "execution_count": 4,
     "metadata": {},
     "output_type": "execute_result"
    }
   ],
   "source": [
    "YH_df.shape"
   ]
  },
  {
   "cell_type": "code",
   "execution_count": 5,
   "metadata": {
    "collapsed": true
   },
   "outputs": [],
   "source": [
    "#YH_df[\"date\"] = YH_df[\"created_at\"].str.encode('utf-8').apply(parser.parse)\n",
    "#YH_df[\"date\"] = pd.to_datetime(YH_df[\"date\"])\n",
    "YH_df[\"date\"] = pd.to_datetime(YH_df[\"created_at\"], errors='coerce')"
   ]
  },
  {
   "cell_type": "code",
   "execution_count": 6,
   "metadata": {},
   "outputs": [
    {
     "data": {
      "text/plain": [
       "<matplotlib.axes._subplots.AxesSubplot at 0x172896222e8>"
      ]
     },
     "execution_count": 6,
     "metadata": {},
     "output_type": "execute_result"
    },
    {
     "data": {
      "image/png": "[encoded data removed]",
      "text/plain": [
       "<matplotlib.figure.Figure at 0x17288614a20>"
      ]
     },
     "metadata": {},
     "output_type": "display_data"
    }
   ],
   "source": [
    "YH_df.groupby(YH_df[\"date\"].dt.date).date.count().plot(kind=\"bar\")"
   ]
  },
  {
   "cell_type": "code",
   "execution_count": 7,
   "metadata": {
    "collapsed": true
   },
   "outputs": [],
   "source": [
    "ID_df = pd.read_csv(\"tweet/2018-05-08/iidashi_2018-05-08.csv\", sep = '\\t', encoding='utf-16')"
   ]
  },
  {
   "cell_type": "code",
   "execution_count": 8,
   "metadata": {},
   "outputs": [
    {
     "data": {
      "text/html": [
       "<div>\n",
       "<style>\n",
       "    .dataframe thead tr:only-child th {\n",
       "        text-align: right;\n",
       "    }\n",
       "\n",
       "    .dataframe thead th {\n",
       "        text-align: left;\n",
       "    }\n",
       "\n",
       "    .dataframe tbody tr th {\n",
       "        vertical-align: top;\n",
       "    }\n",
       "</style>\n",
       "<table border=\"1\" class=\"dataframe\">\n",
       "  <thead>\n",
       "    <tr style=\"text-align: right;\">\n",
       "      <th></th>\n",
       "      <th>Unnamed: 0</th>\n",
       "      <th>created_at</th>\n",
       "      <th>text</th>\n",
       "      <th>RT</th>\n",
       "    </tr>\n",
       "  </thead>\n",
       "  <tbody>\n",
       "    <tr>\n",
       "      <th>0</th>\n",
       "      <td>0</td>\n",
       "      <td>Mon May 07 23:49:44 +0000 2018</td>\n",
       "      <td>飯田市のパン事情を視察だに。</td>\n",
       "      <td>False</td>\n",
       "    </tr>\n",
       "    <tr>\n",
       "      <th>1</th>\n",
       "      <td>1</td>\n",
       "      <td>Mon May 07 23:48:02 +0000 2018</td>\n",
       "      <td>登録女性は女子力高め！？女性誌で宣伝してるだけある！\\r\\n　\\r\\n長野県飯田市\\r\\nス...</td>\n",
       "      <td>False</td>\n",
       "    </tr>\n",
       "    <tr>\n",
       "      <th>2</th>\n",
       "      <td>2</td>\n",
       "      <td>Mon May 07 23:43:00 +0000 2018</td>\n",
       "      <td>≪長野県：飯田市≫　飯田市防災行政無線デジタル化整備工事・公募型プロポーザルの実施について ...</td>\n",
       "      <td>False</td>\n",
       "    </tr>\n",
       "    <tr>\n",
       "      <th>3</th>\n",
       "      <td>3</td>\n",
       "      <td>Mon May 07 23:42:44 +0000 2018</td>\n",
       "      <td>I'm at Fラン高校 in 飯田市, 長野県 w/ @pokako6022 @arisa...</td>\n",
       "      <td>False</td>\n",
       "    </tr>\n",
       "    <tr>\n",
       "      <th>4</th>\n",
       "      <td>4</td>\n",
       "      <td>Mon May 07 23:38:41 +0000 2018</td>\n",
       "      <td>🔳長野県：NEWS🔳　リニア認可、審査請求へ　県内など沿線住民〔信濃毎日新聞〕https:/...</td>\n",
       "      <td>False</td>\n",
       "    </tr>\n",
       "  </tbody>\n",
       "</table>\n",
       "</div>"
      ],
      "text/plain": [
       "   Unnamed: 0                      created_at  \\\n",
       "0           0  Mon May 07 23:49:44 +0000 2018   \n",
       "1           1  Mon May 07 23:48:02 +0000 2018   \n",
       "2           2  Mon May 07 23:43:00 +0000 2018   \n",
       "3           3  Mon May 07 23:42:44 +0000 2018   \n",
       "4           4  Mon May 07 23:38:41 +0000 2018   \n",
       "\n",
       "                                                text     RT  \n",
       "0                                     飯田市のパン事情を視察だに。  False  \n",
       "1  登録女性は女子力高め！？女性誌で宣伝してるだけある！\\r\\n　\\r\\n長野県飯田市\\r\\nス...  False  \n",
       "2  ≪長野県：飯田市≫　飯田市防災行政無線デジタル化整備工事・公募型プロポーザルの実施について ...  False  \n",
       "3  I'm at Fラン高校 in 飯田市, 長野県 w/ @pokako6022 @arisa...  False  \n",
       "4  🔳長野県：NEWS🔳　リニア認可、審査請求へ　県内など沿線住民〔信濃毎日新聞〕https:/...  False  "
      ]
     },
     "execution_count": 8,
     "metadata": {},
     "output_type": "execute_result"
    }
   ],
   "source": [
    "ID_df.head()"
   ]
  },
  {
   "cell_type": "code",
   "execution_count": 9,
   "metadata": {},
   "outputs": [
    {
     "data": {
      "text/plain": [
       "(208, 4)"
      ]
     },
     "execution_count": 9,
     "metadata": {},
     "output_type": "execute_result"
    }
   ],
   "source": [
    "ID_df.shape"
   ]
  },
  {
   "cell_type": "code",
   "execution_count": 10,
   "metadata": {
    "collapsed": true
   },
   "outputs": [],
   "source": [
    "ID_df[\"date\"] = pd.to_datetime(ID_df[\"created_at\"], errors='coerce')"
   ]
  },
  {
   "cell_type": "code",
   "execution_count": 11,
   "metadata": {},
   "outputs": [
    {
     "data": {
      "text/plain": [
       "<matplotlib.axes._subplots.AxesSubplot at 0x172896bec18>"
      ]
     },
     "execution_count": 11,
     "metadata": {},
     "output_type": "execute_result"
    },
    {
     "data": {
      "image/png": "[encoded data removed]",
      "text/plain": [
       "<matplotlib.figure.Figure at 0x172896e0fd0>"
      ]
     },
     "metadata": {},
     "output_type": "display_data"
    }
   ],
   "source": [
    "ID_df.groupby(ID_df[\"date\"].dt.date).date.count().plot(kind=\"bar\")"
   ]
  },
  {
   "cell_type": "code",
   "execution_count": 12,
   "metadata": {},
   "outputs": [
    {
     "data": {
      "text/plain": [
       "'よほぉーい！貴様らー！マガレ兄さんだぞぉ！大阪で尻込みしてしまって、故郷に帰ったのは一昨日なんだ。帰宅早々、両親に「ライブ観に行く」とだけ言って家を飛び出した。勿論、八幡浜SDにお笑いクラストコアバンドの「巨根トライアングル」を観にだ。巨根の面々、巨根を観に来た皆様は黒く輝いてた'"
      ]
     },
     "execution_count": 12,
     "metadata": {},
     "output_type": "execute_result"
    }
   ],
   "source": [
    "YH_df['text'][0]"
   ]
  },
  {
   "cell_type": "code",
   "execution_count": 13,
   "metadata": {
    "scrolled": false
   },
   "outputs": [
    {
     "name": "stdout",
     "output_type": "stream",
     "text": [
      "0 :  よほぉーい！貴様らー！マガレ兄さんだぞぉ！大阪で尻込みしてしまって、故郷に帰ったのは一昨日なんだ。帰宅早々、両親に「ライブ観に行く」とだけ言って家を飛び出した。勿論、八幡浜SDにお笑いクラストコアバンドの「巨根トライアングル」を観にだ。巨根の面々、巨根を観に来た皆様は黒く輝いてた\n",
      "1 :  八幡浜市街地界隈の道狭すぎワロス\n",
      "2 :  おはようございました\r\n",
      "八幡浜へ https://t.co/mh2YJkQoQC\n",
      "3 :  愛媛鉄道長浜町駅　機関車の後部が気になる\r\n",
      "目で見る大洲・八幡浜・喜多・西宇和・東宇和の100年 https://t.co/dWlgloDRQQ\n",
      "4 :  平成29年度　情報公開・個人情報保護制度の実施状況の公表について: １　八幡浜市情報公開条例に基づく実施状況　　 　八幡浜市情報公開条例第２３条の規定に基づく、平成２９年度の請求件数及び処理状況は、次のとおりです。 （単位：件）… https://t.co/PIRgvQx2xl\n",
      "5 :  平成３０年度八幡浜市地域福祉基金補助団体募集のお知らせ ～八幡浜市内の福祉・ボランティア団体関係者の皆さまへ～: 地域福祉活動事業を予定している八幡浜市で活動している団体に事業に必要な経費を『八幡浜市地域福祉基金』より助成します。… https://t.co/K4uNiw07L2\n",
      "6 :  国指定重要文化財\r\n",
      "「八幡浜市立日土小学校」\r\n",
      "\r\n",
      "日本一美しい小学校とも呼ばれているそうです。 https://t.co/Mh6sw7EzhY\n",
      "7 :  愛媛県八幡浜市に新しい宿泊施設が誕生！コワーキングスペースを併設した、大人と子どものヒミツキチ「コダテル」です。ビジネス・観光・一人旅にぴったり！素泊まり1泊3,000円〜。宿泊の予約はこちらから→… https://t.co/m5xNTNmdtT\n",
      "8 :  本日の号泣\r\n",
      "美の巨人たち 子どものユートピア！松村正恒『八幡浜市立日土小学校』\r\n",
      "最初はわからなかったけど、意味がわかった途端、打たれっぱなし。立派な人物の心ある良い仕事でした。 https://t.co/8F6Hwws3PT\n",
      "9 :  4月ランク報酬運転カード\r\n",
      "2000系TSE 宇和海\r\n",
      "区間:松山駅〜宇和島駅(内子経由)\r\n",
      "停車駅:松山駅・伊予市駅・内子駅・伊予大洲駅・八幡浜駅・卯之町駅・伊予吉田駅・宇和島駅\r\n",
      "合成後のスキル:出目6確定\r\n",
      "#プラトレ https://t.co/Z2XOg2JtjL\n",
      "10 :  2:50八幡浜発臼杵行フェリーに乗り込んで出走準備整いました。いざ九州ツーリングスタート！(・Д・)ノ ゴー https://t.co/X9CrngHqkG\n",
      "11 :  八幡浜から別府のフェリー乗った時は翌日死ぬかと思った\n",
      "12 :  四国の愛媛県八幡浜市に、日本一ブラックな商店街がありました。戸田さんにレポートしていただければ幸いです。 https://t.co/tKlEVHN9Pc … #もてらじ\n",
      "13 :  五年ぶりかー (@ 八幡浜港 in 八幡浜市, 愛媛県) https://t.co/0f3BPRP21X https://t.co/aTinmbb3LV\n",
      "14 :  Motorcycle Journey-モーターサイクル・ジャーニー　更新しました！\r\n",
      "\r\n",
      "4月29日　日本一周29日目です！\r\n",
      "ハイライトは、佐田岬！風車！立ちごけ！AZUMAさん(@NaoppiGS)と八幡浜ちゃんぽん！下灘駅！道後温… https://t.co/XOtNaCPjBO\n",
      "15 :  Motorcycle Journey-モーターサイクル・ジャーニー　更新しました！\r\n",
      "\r\n",
      "4月29日　日本一周29日目です！\r\n",
      "ハイライトは、佐田岬！風車！立ちごけ！AZUMAさん(@NaoppiGS)と八幡浜ちゃんぽん！下灘駅！道後温… https://t.co/XOtNaCPjBO\n",
      "16 :  視界を埋め尽くすは３色のツツジ！二宮敬作記念公園のツツジが見頃を迎えていますよ！ https://t.co/w4SnH2MFck map, 見る, 八幡浜市 #KITONARU https://t.co/6G0mdWMLIz\n",
      "17 :  本日の号泣\r\n",
      "美の巨人たち 子どものユートピア！松村正恒『八幡浜市立日土小学校』\r\n",
      "最初はわからなかったけど、意味がわかった途端、打たれっぱなし。立派な人物の心ある良い仕事でした。 https://t.co/8F6Hwws3PT\n",
      "18 :  伊予鉄高速バス\r\n",
      "松山・八幡浜ー大阪線\r\n",
      "大阪(阪急三番街)→川内インター https://t.co/X5ARSgbC3V\n",
      "19 :  愛媛県八幡浜市、大正湯\r\n",
      "GW営業は下記の通りです♨\r\n",
      "\r\n",
      "通常営業　～4月30日\r\n",
      "定休日　5月1日\r\n",
      "通常営業　5月2日～5月6日\r\n",
      "定休日　5月7日\r\n",
      "\r\n",
      "良い風呂の日の会話…\r\n",
      "一緒にニュース見てて、うちも釜でピザ焼けるな～と女将さん😁 https://t.co/1ushYW8qOw\n",
      "20 :  愛媛県八幡浜市、大正湯\r\n",
      "GW営業は下記の通りです♨\r\n",
      "\r\n",
      "通常営業　～4月30日\r\n",
      "定休日　5月1日\r\n",
      "通常営業　5月2日～5月6日\r\n",
      "定休日　5月7日\r\n",
      "\r\n",
      "良い風呂の日の会話…\r\n",
      "一緒にニュース見てて、うちも釜でピザ焼けるな～と女将さん😁 https://t.co/1ushYW8qOw\n",
      "21 :  この時間に別府から八幡浜降りてくるバイクおるけどその後どないするんやろ\r\n",
      "結構気になる\n",
      "22 :  【愛媛県八幡浜市】 バイク・自転車用屋根付き駐車場あり！フェリーの街・八幡浜の「八幡浜センチュリーホテルイトー」は「未利用魚」の活用でも地域貢献。 https://t.co/AoZVVyYMgc  https://t.co/8gkifrSk7q\n",
      "23 :  道の駅八幡浜みなっと。\r\n",
      "スタンプ、きっぷ、道の駅カード、マンホールカードまで揃います。\r\n",
      "でもこのキャラ微妙… https://t.co/P42Cloth6r\n",
      "24 :  スパム（スパムメール）…スパム行為で宣伝しているサイト等は悪質なものが多い為、リンクから接続しないで削除すのが賢明。現在スパムは犯罪\r\n",
      "　\r\n",
      "愛媛県八幡浜市\r\n",
      "貧乳の人妻探し！\n",
      "25 :  ［選手紹介］\r\n",
      "眞矢 岬太朗 3年\r\n",
      "八幡浜高校出身\r\n",
      "バイトで月に10万稼ぐ長距離のバイトリーダー！\r\n",
      "10000mを専門としており、冬にはマラソンにも力を入れている。\r\n",
      "座右の銘は、「継続は力なり」\r\n",
      "(ちなみに彼は継続して部活に来ること… https://t.co/vHJyBDcrCU\n",
      "26 :  八幡浜駅から八幡浜港へ。一部区間のみ？アーケードあり。　【2016年05月　愛媛県八幡浜市】\r\n",
      "https://t.co/IL9neHFQ5n  https://t.co/aMAVWpmJzL\n",
      "27 :  【送料無料地域】内子、長浜、肱川、四国カルスト、八幡浜、宇和、野村、鬼北、愛南　https://t.co/j1upXWEW8G\n",
      "28 :  本日の号泣\r\n",
      "美の巨人たち 子どものユートピア！松村正恒『八幡浜市立日土小学校』\r\n",
      "最初はわからなかったけど、意味がわかった途端、打たれっぱなし。立派な人物の心ある良い仕事でした。 https://t.co/8F6Hwws3PT\n",
      "29 :  «⭕️拡散希望 ⭕️»RT希望！\r\n",
      "・\r\n",
      "八幡浜で子犬7匹・母犬1匹発見\r\n",
      "犬種は雑種でメス♀オス♂います\r\n",
      "・\r\n",
      "保健所に連れていかれて小さな命が\r\n",
      "奪われるのが嫌なので半分子犬を\r\n",
      "家であづかるかもしれません！\r\n",
      "最後まで可愛がってくれる\r\n",
      "里… https://t.co/LuTeHhD7rX\n",
      "30 :  道の駅八幡浜みなっと。\r\n",
      "スタンプ、きっぷ、道の駅カード、マンホールカードまで揃います。\r\n",
      "でもこのキャラ微妙… https://t.co/P42Cloth6r\n",
      "31 :  道の駅八幡浜みなっと。\r\n",
      "スタンプ、きっぷ、道の駅カード、マンホールカードまで揃います。\r\n",
      "でもこのキャラ微妙… https://t.co/P42Cloth6r\n",
      "32 :  国指定重要文化財\r\n",
      "「八幡浜市立日土小学校」\r\n",
      "\r\n",
      "日本一美しい小学校とも呼ばれているそうです。 https://t.co/Mh6sw7EzhY\n",
      "33 :  とりあえず八幡浜港到着～こっから大分臼杵まで､､そっから鹿児島までのドライブが(笑)予定では朝5時着予定(笑) で、仕事向かいます(笑)\r\n",
      "安定ですけど何か?(笑) \r\n",
      "あっ愛媛いいとこやわ。年１きとるけどまた行きたい～(*゜▽゜)_… https://t.co/eVZhmvrBiR\n",
      "34 :  ★ブログ更新★\r\n",
      "既に暑くなってきましたね…\r\n",
      "暑い時期のレジャーと言えばやっぱり「そうめん流し」！\r\n",
      "八幡浜市の平家谷のそうめん流しについて記事書きました！\r\n",
      "https://t.co/UpBfkUAeHb\n",
      "35 :  別府温泉楽しんで来ました～(*^^*)♪くじゅう花公園行き、サファリパーク行き、地獄巡り♪お目当ての泥温泉も入って来ました♪これから別府から八幡浜向けてフェリーです♪\r\n",
      "家に到着予定は夜中の２時半から３時くらいかな～\r\n",
      "運転頑張る♪ https://t.co/oStm96NjGa\n",
      "36 :  Z-じーた-Z 外向き Orions 幸福の科学 韓国 唐澤貴洋 アレフ 創価学会 革マル アルカイダ オウム ひかりの輪 美術部 在日 中国マフィア 元公安 八幡浜 朝鮮 暴力団 幸福の科学 アレフ 龍潭寺 創価学会 唐澤貴洋… https://t.co/4vxhiFdYf1\n",
      "37 :  今日は2階？3階？からも車乗り込んでた！\r\n",
      "大分県臼杵→愛媛県八幡浜 https://t.co/7i1CR8inDk\n",
      "38 :  2件目は八幡浜ちゃんぽん。 https://t.co/uoCw6v1FZd\n",
      "39 :  ﾄﾞﾗｺｺ : 愛媛県八幡浜市沖新田 #LocationPost\n",
      "40 :  よしゃ着いたー！今から宇和島向けて出発じゃーー (@ 道の駅 八幡浜みなっと in 八幡浜市, 愛媛県) https://t.co/6ByCtU2YjY\n",
      "41 :  愛媛県八幡浜市あるある\r\n",
      "トラックびゅんびゅん\r\n",
      "＝フェリーが到着した https://t.co/sRUq9hNB3r\n",
      "42 :  宇和島フェリーで晩ごはんなう。\r\n",
      "八幡浜～別府へ\r\n",
      "フェリー久しぶり。\r\n",
      "\r\n",
      "ちょっと横になってゆっくりできるのは嬉しい。\r\n",
      "周りのお客さんみんな着々とマイスペースを作ってて、船旅なれた感じ(^^) https://t.co/fP02CCf5mE\n",
      "43 :  長崎到着！\r\n",
      "松山市内→八幡浜港→臼杵港→阿蘇大観峰→日田インター→長崎\r\n",
      "走行距離383km\r\n",
      "3日間のトータル走行距離1212.3kmでした。たぶん…\r\n",
      "1年間通しても、こんなに走ったの初めてかもw\n",
      "44 :  別府温泉楽しんで来ました～(*^^*)♪くじゅう花公園行き、サファリパーク行き、地獄巡り♪お目当ての泥温泉も入って来ました♪これから別府から八幡浜向けてフェリーです♪\r\n",
      "家に到着予定は夜中の２時半から３時くらいかな～\r\n",
      "運転頑張る♪ https://t.co/oStm96NjGa\n",
      "45 :  明日夜は重要文化財「八幡浜市立日土（ひづち）小学校」。愛媛県の山間に佇む現役の小学校。子どもたちへの愛情が詰まった“日本一美しい小学校”には、川に張り出したベランダが…校舎の端に浮かぶ豪華な部屋は一体！？まさにユートピア！小学生に戻って、ここに通いたくなりますよ！\n",
      "46 :  国指定重要文化財\r\n",
      "「八幡浜市立日土小学校」\r\n",
      "\r\n",
      "日本一美しい小学校とも呼ばれているそうです。 https://t.co/Mh6sw7EzhY\n",
      "47 :  八幡浜市のやすいがそれなりのホテルにチェックインしたが、バイク乗りも多い。そんな中俺はレンタサイクルをバイク置き場に停める…\n",
      "48 :  臼杵から八幡浜に向かうフェリーの中です。月が上ってきました。 https://t.co/QdsAHDCRch\n",
      "49 :  #らくやのぉの逆襲 #rnb1116 やのさんから南海放送ラジオのFM補完放送\"Fnam”の告知が…そうです‼️松山・新居浜・今治・大洲・宇和島・御荘:91.7MHz、川之江・久万・八幡浜:91.2MHzで受信できますよ📻\n",
      "50 :  ❤️愛媛セフレ募集\r\n",
      "\r\n",
      "内容：看護士してます。今日時間あるので今から会える人探してます。プロフを見て良ければお誘いください。\r\n",
      "名前：♀ミチル\r\n",
      "年齢：31歳\r\n",
      "地域：八幡浜市\r\n",
      "\r\n",
      "連絡先→アカウントのプロフ欄URLから確認\r\n",
      "\r\n",
      "月曜日18時45分の情報。\n",
      "51 :  四国の愛媛県八幡浜市に、日本一ブラックな商店街がありました。戸田さんにレポートしていただければ幸いです。 https://t.co/tKlEVHN9Pc … #もてらじ\n",
      "52 :  Q227:四択:2010年に声優・水樹奈々が「ふるさと観光大使」に就任した愛媛県の都市は→新居浜市　四国中央市/今治市/八幡浜市（読みは「にいはまし」。まあ社エフェの範囲だけどね。予断だが顔が似ているとよく言われる眞鍋かをりとは年齢も出身県も同じです）\n",
      "53 :  鉄板ハンバーグ定食。レジには ちゃんぽんゆるキャラ「はまぽん」が。 #愛媛 #八幡浜 場所: 浜味館あたご https://t.co/hu3VHb072i\n",
      "54 :  #ご当地マンホール @ #愛媛県 #八幡浜市 #マンホール部 場所: 八幡浜みなっと https://t.co/Rv8ZLaTvpd\n",
      "55 :  I'm at リー・ステーション in 八幡浜市, 愛媛県 https://t.co/HlGYlo4ZCb\n",
      "56 :  MTBの練習の後教えて頂いた八幡浜の清家食堂で夕食☺️チャンポン！\r\n",
      "一緒に行ったメンバーはあんかけ焼きそば、オムカツカレーなどでお腹を満たしました！旨かった❗ https://t.co/gpjgjVy8Jz\n",
      "57 :  【昨日今日でしたこと】\r\n",
      "・平家谷そうめん流しの餅まき行って、餅×13個GET\r\n",
      "・小指突き指\r\n",
      "・日本一周中のぐらどらライダーさん @GlaDrRider に会ってきた\r\n",
      "・一緒に八幡浜ちゃんぽん食べた\r\n",
      "・道の駅で買った10円ガムで当た… https://t.co/uBxl95MiJO\n",
      "58 :  八幡浜フェリーターミナル着🚗\r\n",
      "\r\n",
      "四国旅行の締めは、やはたはまチャンポン？\r\n",
      "\r\n",
      "残すは、別府→小倉の110キロ運転か。 https://t.co/nhDsJsfCLn\n",
      "59 :  愛媛県高校総合体育大会サッカー（男子）南予地区予選\r\n",
      "【県大会出場校】\r\n",
      "※宇和島東高校は県シード\r\n",
      "帝京第五高校、八幡浜工業高校\r\n",
      "吉田高校、南宇和高校\r\n",
      "大洲高校\r\n",
      " 4/29\r\n",
      "＊決勝は行わない\r\n",
      "準決勝\r\n",
      "帝京第五5-1吉田\r\n",
      "八幡浜工2-1… https://t.co/or1CiRY50R\n",
      "60 :  来年のGWは四国に行きたいなぁ\r\n",
      "調べたら\r\n",
      "愛媛県の八幡浜港まで、大分からフェリー使えば3時間40分で行ける♪\n",
      "61 :  国指定重要文化財\r\n",
      "「八幡浜市立日土小学校」\r\n",
      "\r\n",
      "日本一美しい小学校とも呼ばれているそうです。 https://t.co/Mh6sw7EzhY\n",
      "62 :  【相撲🍙取材便り】\r\n",
      "宇和島大会団体３連覇から早１日。相撲班は5/3に行われる宇佐大会へ向け、八幡浜港から🛳で海を渡り大分県へやってきました！八幡浜港では地元の学生に見送られ、ドラマの主人公の様な気分になりました😊\r\n",
      "スポトウ新入部員… https://t.co/CVjWxE7j7r\n",
      "63 :  【昨日今日でしたこと】\r\n",
      "・平家谷そうめん流しの餅まき行って、餅×13個GET\r\n",
      "・小指突き指\r\n",
      "・日本一周中のぐらどらライダーさん @GlaDrRider に会ってきた\r\n",
      "・一緒に八幡浜ちゃんぽん食べた\r\n",
      "・道の駅で買った10円ガムで当た… https://t.co/uBxl95MiJO\n",
      "64 :  I'm at 道の駅 八幡浜みなっと in 八幡浜市, 愛媛県 https://t.co/jWCZrrDVWF\n",
      "65 :  I'm at 道の駅 八幡浜みなっと in 八幡浜市, 愛媛県 https://t.co/FpWufGgCm7\n",
      "66 :  八幡浜到着。明日のためにもう少し進んでおく\n",
      "67 :  [35歳/男性][愛媛県八幡浜市]とセフレ関係♪ [27歳/女性][鳥取県]と付き合いたい(*'▽'*)割きり目的の人妻が利用する出会いはこれ！[広告]…https://t.co/aliG87pXuo (18禁)\n",
      "68 :  ちょうど4日に八幡浜行く予定だから見つけたら買おーッ😆💓💓💓💓💓 https://t.co/2zJjWTZHtQ\n",
      "69 :  大洲、八幡浜の消防カード\r\n",
      "なかなかいい‼️ https://t.co/lnPXJC4k1Z\n",
      "70 :  別府港から八幡浜行フェリーに乗船。\r\n",
      "あかつき丸も発乗船。\r\n",
      "今日はかなり混みあってきました❗ https://t.co/Ana2yZ7pbd\n",
      "71 :  八幡浜00:20に予約した(^^)\n",
      "72 :  うぉ！\r\n",
      "奇跡的にオレンジフェリーさんの18:45発 臼杵行きに乗れた！\r\n",
      "やべぇ、早く八幡浜まで戻らないと！\n",
      "73 :  車2回停めた。。\r\n",
      "\r\n",
      "八幡浜まで、あと30数キロ。 https://t.co/r8SbmoC9ej\n",
      "74 :  【自習スペース有り】愛媛県八幡浜市に誕生した「コダテル」は平日10時〜23時まで開いているオープンスペース。休憩・飲食持込可。課題や資格などの勉強に活用できます。無料体験実施中！詳細はこちら→… https://t.co/t45NCpK0ya\n",
      "75 :  八幡浜ですっ転んだ。\r\n",
      "\r\n",
      "時間が経つに連れて痛みが大きく…(ヽ´ω`)\n",
      "76 :  八幡浜に帰ります！\n",
      "77 :  5/4に八幡浜に行きます\n",
      "78 :  総体 南予予選\r\n",
      "\r\n",
      "4/22 1回戦 ○\r\n",
      "1-0 野村高校\r\n",
      "\r\n",
      "4/28 代表決定戦 ●\r\n",
      "0-1 八幡浜工業高校\r\n",
      "\r\n",
      "4/28 敗者復活戦 ●\r\n",
      "2-2 PK2-4 大洲高校\r\n",
      "\r\n",
      "県大会出場はできませんが、最後まで全力で走って、最高の試合が… https://t.co/WlnrBCmAhQ\n",
      "79 :  八幡浜帰ってから1番最初に行く場所バイト先って、、私ら好きすぎやん\n",
      "80 :  久々に復活した鬼門のアウェイ大分戦、ツアーを見れば行きは大阪南港から名門大洋フェリーで新門司から上陸。帰りは宇和島運輸フェリーで八幡浜上陸、四国経由で帰るわけか。船中2泊のまさに修行\r\n",
      "#でもちょっと興味ある https://t.co/jSTDdRD6sI\n",
      "81 :  八幡浜\n",
      "82 :  I'm at ローソン八幡浜保内町宮内店 in 八幡浜市, 愛媛県 https://t.co/FTzSFcjsGt\n",
      "83 :  フランスからのKiyomiさんご家族。昨日はしまなみサイクリングで今日は八幡浜だそうです。 [Flickr] https://t.co/s6bz9uY5oK #gelologue\n",
      "84 :  八幡浜市 でSOFTBANKのiphone7/7 plusに乗り換えするならキャッシュバック額地域ナンバー１のここがダントツ！→https://t.co/WRxepJc5PG　アイフォン7、アイフォン7プラス優先確保も可能♪期間限定で高額還元中！\n",
      "85 :  .@235s さんの「八幡浜市立日土小学校」https://t.co/GH2nx8zSQp をお気に入りにしました。\n",
      "86 :  .@235s さんの「八幡浜市立日土小学校」https://t.co/GH2nx8zSQp をお気に入りにしました。\n",
      "87 :  2018/04/30八幡浜市のお天気: 2018/04/30 天気 雨 気温 17.9℃ 最高 25.2℃ 最低 16.1℃ 風向 北東(1.3m/s） 湿度 99.9% 雨量 -mm https://t.co/wn2mlFwSDu\n",
      "88 :  2018/04/30八幡浜市のお天気: 2018/04/30 天気 雨 気温 17.9℃ 最高 25.2℃ 最低 16.1℃ 風向 北東(1.3m/s） 湿度 99.9% 雨量 -mm https://t.co/XW0WZdfjvO\n",
      "89 :  2018/04/30八幡浜市のお天気: 2018/04/30 天気 雨 気温 17.9℃ 最高 25.2℃ 最低 16.1℃ 風向 北東(1.3m/s） 湿度 99.9% 雨量 -mm https://t.co/2VEMVxJaJM\n",
      "90 :  阿部 改め、岡部 八幡浜に降臨。\r\n",
      "久々すぎて絡み方忘れた🤦🏻‍♀️わら https://t.co/Dxi5mDA62R\n",
      "91 :  .@235s さんの「八幡浜市立日土小学校」https://t.co/GH2nx8zSQp をお気に入りにしました。\n",
      "92 :  I'm at 八幡浜フェリーターミナル in 八幡浜市, 愛媛県 https://t.co/8QZ9MdlhtV\n",
      "93 :  八幡浜の平家谷そうめん流しの通り道で仕事してるんやけど、\r\n",
      "\r\n",
      "めっちゃ車が上がって来る…\r\n",
      "\r\n",
      "ダンプバックするのに危ないわぁ😅\r\n",
      "\r\n",
      "#平家谷そうめん流し\r\n",
      "\r\n",
      "#八幡浜 https://t.co/LwsWV4UIxE\n",
      "94 :  八幡浜港⚓︎近くの道の駅みなっと アゴラマルシェに来ました 場所: 八幡浜みなっと https://t.co/Wa2bIQKteN\n",
      "95 :  八幡浜MTBコース練習中！ https://t.co/7roct0VMfu\n",
      "96 :  構内にちゃんぽんのゆるキャラ「はまぽん」が鎮座する、JR四国 八幡浜駅。以前あった 蜜柑ツリー🌲🍊 は既に撤去されていたね 場所:… https://t.co/r0T0cbdzp0\n",
      "97 :  I'm at フジグラン北浜 in 八幡浜市, 愛媛県 https://t.co/XTBKD1xB1b\n",
      "98 :  《経験･資格は必要ナシ》薬局事務スタッフ – 総合メディカル – 八幡浜市\r\n",
      "の整理整頓 サプリメント･医薬品の販売 商品陳列･発注 パソ\r\n",
      "https://t.co/VLeFbYOI3K\r\n",
      "#薬剤師の求人\n",
      "99 :  明屋書店八幡浜店です！\r\n",
      "週末お店に来てもらった方は、この漫画を思い出したかもしれませんが、愛媛県は発売日から入荷が1日遅れてしまうのです。そして日曜日は荷物が入らないので、28日発売は30日本日入荷なのです！お待たせしました、よつ… https://t.co/BYxspneaYS\n"
     ]
    }
   ],
   "source": [
    "for i in range(100):\n",
    "    print(i, ': ', YH_df['text'][i])"
   ]
  },
  {
   "cell_type": "code",
   "execution_count": null,
   "metadata": {
    "collapsed": true
   },
   "outputs": [],
   "source": []
  }
 ],
 "metadata": {
  "kernelspec": {
   "display_name": "Python 3",
   "language": "python",
   "name": "python3"
  },
  "language_info": {
   "codemirror_mode": {
    "name": "ipython",
    "version": 3
   },
   "file_extension": ".py",
   "mimetype": "text/x-python",
   "name": "python",
   "nbconvert_exporter": "python",
   "pygments_lexer": "ipython3",
   "version": "3.6.1"
  }
 },
 "nbformat": 4,
 "nbformat_minor": 2
}

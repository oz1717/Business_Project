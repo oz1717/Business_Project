{
 "cells": [
  {
   "cell_type": "code",
   "execution_count": 18,
   "metadata": {
    "collapsed": true
   },
   "outputs": [],
   "source": [
    "%matplotlib inline\n",
    "\n",
    "import pandas as pd\n",
    "import matplotlib.pyplot as plt\n",
    "import seaborn as sns\n",
    "from dateutil import parser\n",
    "sns.set(color_codes=True)"
   ]
  },
  {
   "cell_type": "code",
   "execution_count": 19,
   "metadata": {
    "collapsed": true
   },
   "outputs": [],
   "source": [
    "YH_df = pd.read_csv(\"tweet/2018-05-08/yawatahama_2018-05-08.csv\", sep = '\\t', encoding='utf-16')"
   ]
  },
  {
   "cell_type": "code",
   "execution_count": 20,
   "metadata": {},
   "outputs": [
    {
     "data": {
      "text/html": [
       "<div>\n",
       "<style>\n",
       "    .dataframe thead tr:only-child th {\n",
       "        text-align: right;\n",
       "    }\n",
       "\n",
       "    .dataframe thead th {\n",
       "        text-align: left;\n",
       "    }\n",
       "\n",
       "    .dataframe tbody tr th {\n",
       "        vertical-align: top;\n",
       "    }\n",
       "</style>\n",
       "<table border=\"1\" class=\"dataframe\">\n",
       "  <thead>\n",
       "    <tr style=\"text-align: right;\">\n",
       "      <th></th>\n",
       "      <th>Unnamed: 0</th>\n",
       "      <th>created_at</th>\n",
       "      <th>text</th>\n",
       "      <th>retweet</th>\n",
       "    </tr>\n",
       "  </thead>\n",
       "  <tbody>\n",
       "    <tr>\n",
       "      <th>0</th>\n",
       "      <td>0</td>\n",
       "      <td>Mon May 07 21:31:27 +0000 2018</td>\n",
       "      <td>愛媛県八幡浜市に新しい宿泊施設が誕生！コワーキングスペースを併設した、大人と子どものヒミツキ...</td>\n",
       "      <td>False</td>\n",
       "    </tr>\n",
       "    <tr>\n",
       "      <th>1</th>\n",
       "      <td>1</td>\n",
       "      <td>Mon May 07 20:23:56 +0000 2018</td>\n",
       "      <td>八幡浜でポルトガルの成果を披露です！\\r\\n\\r\\n見せる時\\r\\nhttps://t.co...</td>\n",
       "      <td>False</td>\n",
       "    </tr>\n",
       "    <tr>\n",
       "      <th>2</th>\n",
       "      <td>2</td>\n",
       "      <td>Mon May 07 18:20:24 +0000 2018</td>\n",
       "      <td>RT @tosa_akio: 愛媛県、道の駅『八幡浜 みなっと』。(横は、すぐ海🌊)\\r\\n...</td>\n",
       "      <td>True</td>\n",
       "    </tr>\n",
       "    <tr>\n",
       "      <th>3</th>\n",
       "      <td>3</td>\n",
       "      <td>Mon May 07 16:44:49 +0000 2018</td>\n",
       "      <td>【送料無料地域】内子、長浜、肱川、四国カルスト、八幡浜、宇和、野村、鬼北、愛南　https:...</td>\n",
       "      <td>False</td>\n",
       "    </tr>\n",
       "    <tr>\n",
       "      <th>4</th>\n",
       "      <td>4</td>\n",
       "      <td>Mon May 07 16:40:07 +0000 2018</td>\n",
       "      <td>中央区で不倫希望中 [41歳/男性]！愛媛県八幡浜登録で恋人急募中 [27歳/女性]と楽しめ...</td>\n",
       "      <td>False</td>\n",
       "    </tr>\n",
       "  </tbody>\n",
       "</table>\n",
       "</div>"
      ],
      "text/plain": [
       "   Unnamed: 0                      created_at  \\\n",
       "0           0  Mon May 07 21:31:27 +0000 2018   \n",
       "1           1  Mon May 07 20:23:56 +0000 2018   \n",
       "2           2  Mon May 07 18:20:24 +0000 2018   \n",
       "3           3  Mon May 07 16:44:49 +0000 2018   \n",
       "4           4  Mon May 07 16:40:07 +0000 2018   \n",
       "\n",
       "                                                text  retweet  \n",
       "0  愛媛県八幡浜市に新しい宿泊施設が誕生！コワーキングスペースを併設した、大人と子どものヒミツキ...    False  \n",
       "1  八幡浜でポルトガルの成果を披露です！\\r\\n\\r\\n見せる時\\r\\nhttps://t.co...    False  \n",
       "2  RT @tosa_akio: 愛媛県、道の駅『八幡浜 みなっと』。(横は、すぐ海🌊)\\r\\n...     True  \n",
       "3  【送料無料地域】内子、長浜、肱川、四国カルスト、八幡浜、宇和、野村、鬼北、愛南　https:...    False  \n",
       "4  中央区で不倫希望中 [41歳/男性]！愛媛県八幡浜登録で恋人急募中 [27歳/女性]と楽しめ...    False  "
      ]
     },
     "execution_count": 20,
     "metadata": {},
     "output_type": "execute_result"
    }
   ],
   "source": [
    "YH_df.head(5)"
   ]
  },
  {
   "cell_type": "code",
   "execution_count": 21,
   "metadata": {},
   "outputs": [
    {
     "data": {
      "text/plain": [
       "(1262, 4)"
      ]
     },
     "execution_count": 21,
     "metadata": {},
     "output_type": "execute_result"
    }
   ],
   "source": [
    "YH_df.shape"
   ]
  },
  {
   "cell_type": "code",
   "execution_count": 22,
   "metadata": {
    "collapsed": true
   },
   "outputs": [],
   "source": [
    "#YH_df[\"date\"] = YH_df[\"created_at\"].str.encode('utf-8').apply(parser.parse)\n",
    "#YH_df[\"date\"] = pd.to_datetime(YH_df[\"date\"])\n",
    "YH_df[\"date\"] = pd.to_datetime(YH_df[\"created_at\"], errors='coerce')"
   ]
  },
  {
   "cell_type": "code",
   "execution_count": 23,
   "metadata": {},
   "outputs": [
    {
     "data": {
      "text/plain": [
       "<matplotlib.axes._subplots.AxesSubplot at 0x2b711d0e470>"
      ]
     },
     "execution_count": 23,
     "metadata": {},
     "output_type": "execute_result"
    },
    {
     "data": {
      "image/png": "[encoded data removed]",
      "text/plain": [
       "<matplotlib.figure.Figure at 0x2b711d4b9b0>"
      ]
     },
     "metadata": {},
     "output_type": "display_data"
    }
   ],
   "source": [
    "YH_df.groupby(YH_df[\"date\"].dt.date).date.count().plot(kind=\"bar\")"
   ]
  },
  {
   "cell_type": "code",
   "execution_count": 26,
   "metadata": {
    "collapsed": true
   },
   "outputs": [],
   "source": [
    "ID_df = pd.read_csv(\"tweet/2018-05-08/iidashi_2018-05-08.csv\", sep = '\\t', encoding='utf-16')"
   ]
  },
  {
   "cell_type": "code",
   "execution_count": 27,
   "metadata": {},
   "outputs": [
    {
     "data": {
      "text/html": [
       "<div>\n",
       "<style>\n",
       "    .dataframe thead tr:only-child th {\n",
       "        text-align: right;\n",
       "    }\n",
       "\n",
       "    .dataframe thead th {\n",
       "        text-align: left;\n",
       "    }\n",
       "\n",
       "    .dataframe tbody tr th {\n",
       "        vertical-align: top;\n",
       "    }\n",
       "</style>\n",
       "<table border=\"1\" class=\"dataframe\">\n",
       "  <thead>\n",
       "    <tr style=\"text-align: right;\">\n",
       "      <th></th>\n",
       "      <th>Unnamed: 0</th>\n",
       "      <th>created_at</th>\n",
       "      <th>text</th>\n",
       "      <th>retweet</th>\n",
       "    </tr>\n",
       "  </thead>\n",
       "  <tbody>\n",
       "    <tr>\n",
       "      <th>0</th>\n",
       "      <td>0</td>\n",
       "      <td>Mon May 07 23:49:44 +0000 2018</td>\n",
       "      <td>飯田市のパン事情を視察だに。</td>\n",
       "      <td>False</td>\n",
       "    </tr>\n",
       "    <tr>\n",
       "      <th>1</th>\n",
       "      <td>1</td>\n",
       "      <td>Mon May 07 23:48:02 +0000 2018</td>\n",
       "      <td>登録女性は女子力高め！？女性誌で宣伝してるだけある！\\r\\n　\\r\\n長野県飯田市\\r\\nス...</td>\n",
       "      <td>False</td>\n",
       "    </tr>\n",
       "    <tr>\n",
       "      <th>2</th>\n",
       "      <td>2</td>\n",
       "      <td>Mon May 07 23:43:00 +0000 2018</td>\n",
       "      <td>≪長野県：飯田市≫　飯田市防災行政無線デジタル化整備工事・公募型プロポーザルの実施について ...</td>\n",
       "      <td>False</td>\n",
       "    </tr>\n",
       "    <tr>\n",
       "      <th>3</th>\n",
       "      <td>3</td>\n",
       "      <td>Mon May 07 23:42:44 +0000 2018</td>\n",
       "      <td>I'm at Fラン高校 in 飯田市, 長野県 w/ @pokako6022 @arisa...</td>\n",
       "      <td>False</td>\n",
       "    </tr>\n",
       "    <tr>\n",
       "      <th>4</th>\n",
       "      <td>4</td>\n",
       "      <td>Mon May 07 23:38:41 +0000 2018</td>\n",
       "      <td>🔳長野県：NEWS🔳　リニア認可、審査請求へ　県内など沿線住民〔信濃毎日新聞〕https:/...</td>\n",
       "      <td>False</td>\n",
       "    </tr>\n",
       "  </tbody>\n",
       "</table>\n",
       "</div>"
      ],
      "text/plain": [
       "   Unnamed: 0                      created_at  \\\n",
       "0           0  Mon May 07 23:49:44 +0000 2018   \n",
       "1           1  Mon May 07 23:48:02 +0000 2018   \n",
       "2           2  Mon May 07 23:43:00 +0000 2018   \n",
       "3           3  Mon May 07 23:42:44 +0000 2018   \n",
       "4           4  Mon May 07 23:38:41 +0000 2018   \n",
       "\n",
       "                                                text  retweet  \n",
       "0                                     飯田市のパン事情を視察だに。    False  \n",
       "1  登録女性は女子力高め！？女性誌で宣伝してるだけある！\\r\\n　\\r\\n長野県飯田市\\r\\nス...    False  \n",
       "2  ≪長野県：飯田市≫　飯田市防災行政無線デジタル化整備工事・公募型プロポーザルの実施について ...    False  \n",
       "3  I'm at Fラン高校 in 飯田市, 長野県 w/ @pokako6022 @arisa...    False  \n",
       "4  🔳長野県：NEWS🔳　リニア認可、審査請求へ　県内など沿線住民〔信濃毎日新聞〕https:/...    False  "
      ]
     },
     "execution_count": 27,
     "metadata": {},
     "output_type": "execute_result"
    }
   ],
   "source": [
    "ID_df.head()"
   ]
  },
  {
   "cell_type": "code",
   "execution_count": 28,
   "metadata": {},
   "outputs": [
    {
     "data": {
      "text/plain": [
       "(216, 4)"
      ]
     },
     "execution_count": 28,
     "metadata": {},
     "output_type": "execute_result"
    }
   ],
   "source": [
    "ID_df.shape"
   ]
  },
  {
   "cell_type": "code",
   "execution_count": 29,
   "metadata": {
    "collapsed": true
   },
   "outputs": [],
   "source": [
    "ID_df[\"date\"] = pd.to_datetime(ID_df[\"created_at\"], errors='coerce')"
   ]
  },
  {
   "cell_type": "code",
   "execution_count": 30,
   "metadata": {},
   "outputs": [
    {
     "data": {
      "text/plain": [
       "<matplotlib.axes._subplots.AxesSubplot at 0x2b711efc128>"
      ]
     },
     "execution_count": 30,
     "metadata": {},
     "output_type": "execute_result"
    },
    {
     "data": {
      "image/png": "[encoded data removed]",
      "text/plain": [
       "<matplotlib.figure.Figure at 0x2b711ef36d8>"
      ]
     },
     "metadata": {},
     "output_type": "display_data"
    }
   ],
   "source": [
    "ID_df.groupby(ID_df[\"date\"].dt.date).date.count().plot(kind=\"bar\")"
   ]
  },
  {
   "cell_type": "code",
   "execution_count": 31,
   "metadata": {},
   "outputs": [
    {
     "data": {
      "text/plain": [
       "'愛媛県八幡浜市に新しい宿泊施設が誕生！コワーキングスペースを併設した、大人と子どものヒミツキチ「コダテル」です。ビジネス・観光・一人旅にぴったり！素泊まり1泊3,000円〜。宿泊の予約はこちらから→… https://t.co/wX0RRWIuIc'"
      ]
     },
     "execution_count": 31,
     "metadata": {},
     "output_type": "execute_result"
    }
   ],
   "source": [
    "YH_df['text'][0]"
   ]
  },
  {
   "cell_type": "code",
   "execution_count": 32,
   "metadata": {},
   "outputs": [
    {
     "name": "stdout",
     "output_type": "stream",
     "text": [
      "0 :  愛媛県八幡浜市に新しい宿泊施設が誕生！コワーキングスペースを併設した、大人と子どものヒミツキチ「コダテル」です。ビジネス・観光・一人旅にぴったり！素泊まり1泊3,000円〜。宿泊の予約はこちらから→… https://t.co/wX0RRWIuIc\n",
      "1 :  八幡浜でポルトガルの成果を披露です！\r\n",
      "\r\n",
      "見せる時\r\n",
      "https://t.co/4kodpXS3ot https://t.co/eWyufzh4EJ\n",
      "2 :  RT @tosa_akio: 愛媛県、道の駅『八幡浜 みなっと』。(横は、すぐ海🌊)\r\n",
      "\r\n",
      "いろんなブースが沢山あり、鮮魚(魚介類)が、いっぱい売ってた😋\r\n",
      "\r\n",
      "『ど〰や食堂❗』、名前がメッチャ気になったけど、腹が減ってないので、スルー💦 https://t.co/YChLpFk2Ka\n",
      "3 :  【送料無料地域】内子、長浜、肱川、四国カルスト、八幡浜、宇和、野村、鬼北、愛南　https://t.co/j1upXWEW8G\n",
      "4 :  中央区で不倫希望中 [41歳/男性]！愛媛県八幡浜登録で恋人急募中 [27歳/女性]と楽しめるのが運営10年以上の出会いＳＮＳ♪\n",
      "5 :  八幡浜（やばたはま）\n",
      "6 :  ［客車列車走行音　添乗音］　627レ　大井川鐡道長距離ドン行第2弾　予讃線編　スハフ43―3　多度津ー八幡浜 https://t.co/7KojaV2bkU @YouTubeさんから\n",
      "7 :  RT @seoulvv: 八幡浜市千丈にて黒のチワワ発見。数日前は愛宕山トンネル付近、合田、舌間、八代でも目撃されています。\r\n",
      "迷い犬か、捨て犬か分かりませんが情報載せておきます。\r\n",
      "\r\n",
      "5/3(木)午前8:50\r\n",
      "八幡浜市千丈駅前のガソリンスタンドを歩いていました。\r\n",
      "\r\n",
      "飼い主様が見つ…\n",
      "8 :  八幡浜で撮った猫の写真 https://t.co/ECFMb06G4g\n",
      "9 :  市PTA連合会が総会開く: 八幡浜市ＰＴＡ連合会はこのほど、市役所八幡浜庁舎で平成30年度定期総会を開き、 永年功労者を表彰したほか、小中学校ＰＴＡ役員らが事業計画などを審議した。 5月7日午後11時　八幡浜新聞 https://t.co/UKY3AIzXKg\n"
     ]
    }
   ],
   "source": [
    "for i in range(10):\n",
    "    print(i, ': ', YH_df['text'][i])"
   ]
  },
  {
   "cell_type": "code",
   "execution_count": null,
   "metadata": {
    "collapsed": true
   },
   "outputs": [],
   "source": []
  }
 ],
 "metadata": {
  "kernelspec": {
   "display_name": "Python 3",
   "language": "python",
   "name": "python3"
  },
  "language_info": {
   "codemirror_mode": {
    "name": "ipython",
    "version": 3
   },
   "file_extension": ".py",
   "mimetype": "text/x-python",
   "name": "python",
   "nbconvert_exporter": "python",
   "pygments_lexer": "ipython3",
   "version": "3.6.1"
  }
 },
 "nbformat": 4,
 "nbformat_minor": 2
}

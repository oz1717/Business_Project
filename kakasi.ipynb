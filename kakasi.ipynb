{
 "cells": [
  {
   "cell_type": "code",
   "execution_count": 6,
   "metadata": {
    "collapsed": true
   },
   "outputs": [],
   "source": [
    "from pykakasi import kakasi"
   ]
  },
  {
   "cell_type": "code",
   "execution_count": 8,
   "metadata": {},
   "outputs": [
    {
     "name": "stdout",
     "output_type": "stream",
     "text": [
      "<class 'str'>\n",
      "honjitsuhaseitennari.jpg\n"
     ]
    }
   ],
   "source": [
    "Kakasi = kakasi()\n",
    "\n",
    "Kakasi.setMode('H', 'a')\n",
    "Kakasi.setMode('K', 'a')\n",
    "Kakasi.setMode('J', 'a')\n",
    "\n",
    "conv = Kakasi.getConverter()\n",
    "\n",
    "filename = '本日は晴天なり.jpg'\n",
    "\n",
    "print(type(filename))\n",
    "print(conv.do(filename))"
   ]
  },
  {
   "cell_type": "code",
   "execution_count": null,
   "metadata": {
    "collapsed": true
   },
   "outputs": [],
   "source": []
  }
 ],
 "metadata": {
  "kernelspec": {
   "display_name": "Python 3",
   "language": "python",
   "name": "python3"
  },
  "language_info": {
   "codemirror_mode": {
    "name": "ipython",
    "version": 3
   },
   "file_extension": ".py",
   "mimetype": "text/x-python",
   "name": "python",
   "nbconvert_exporter": "python",
   "pygments_lexer": "ipython3",
   "version": "3.6.1"
  }
 },
 "nbformat": 4,
 "nbformat_minor": 2
}
